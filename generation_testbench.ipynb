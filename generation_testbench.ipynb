{
 "cells": [
  {
   "cell_type": "markdown",
   "metadata": {},
   "source": [
    "# RESPONSE GENERATION FILE"
   ]
  },
  {
   "cell_type": "code",
   "execution_count": 2,
   "metadata": {},
   "outputs": [],
   "source": [
    "\n",
    "import os \n",
    "import tempfile\n",
    "\n",
    "import chromadb\n",
    "import streamlit as st\n",
    "\n",
    "from langchain_chroma import Chroma\n",
    "from pypdf import PdfReader\n",
    "from langchain_core.documents import Document\n",
    "from langchain_text_splitters import RecursiveCharacterTextSplitter\n",
    "from sentence_transformers import CrossEncoder\n",
    "from streamlit.runtime.uploaded_file_manager import UploadedFile\n",
    "from langchain_ollama import ChatOllama\n",
    "from langchain_core.prompts import ChatPromptTemplate\n",
    "from langchain_core.messages import HumanMessage, AIMessage\n",
    "from langchain_ollama import OllamaEmbeddings\n",
    "from langchain_core.output_parsers import StrOutputParser\n",
    "\n",
    "from bert_score import BERTScorer\n"
   ]
  },
  {
   "cell_type": "code",
   "execution_count": 3,
   "metadata": {},
   "outputs": [],
   "source": [
    "def get_collection():\n",
    "\n",
    "    embedding_model = OllamaEmbeddings(model=\"nomic-embed-text:latest\")\n",
    "\n",
    "    chroma_client = chromadb.PersistentClient(path=\"./hsc-llm\")\n",
    "\n",
    "    return Chroma(\n",
    "        client=chroma_client,\n",
    "        collection_name=\"biology_collection\",\n",
    "        embedding_function=embedding_model,\n",
    "    )"
   ]
  },
  {
   "cell_type": "code",
   "execution_count": 4,
   "metadata": {},
   "outputs": [],
   "source": [
    "system_prompt = \"\"\"\n",
    "You are an assistant for question-answering tasks.\n",
    "\n",
    "Use the following documents that is retrieved from the database is relevant \\\n",
    "use it to provide a complete and concise response to the user's query. \\\n",
    "Do not mention references, sources, or citations in your response\n",
    "\n",
    "If the documents provided are not relevant to the question, use your own knowledge to answer.\n",
    "\n",
    "Limit your answer to 3-4 sentences.\n",
    "\"\"\""
   ]
  },
  {
   "cell_type": "code",
   "execution_count": 5,
   "metadata": {},
   "outputs": [],
   "source": [
    "llm_model = ChatOllama(model=\"llama3.1\", temperature=0)"
   ]
  },
  {
   "cell_type": "code",
   "execution_count": 6,
   "metadata": {},
   "outputs": [],
   "source": [
    "def get_response(context: str, prompt: str):\n",
    "    \n",
    "    llm = llm_model\n",
    "\n",
    "    prompt_template = ChatPromptTemplate([\n",
    "        (\"system\", system_prompt),\n",
    "        (\"user\", f\"Context: {context}, Question: {prompt}\")\n",
    "    ])\n",
    "\n",
    "    chain = prompt_template | llm | StrOutputParser()\n",
    "\n",
    "    return chain.invoke({\n",
    "        \"prompt\": prompt, \n",
    "        \"context\": context\n",
    "    })"
   ]
  },
  {
   "cell_type": "code",
   "execution_count": 7,
   "metadata": {},
   "outputs": [],
   "source": [
    "def perform_retrieval(query: str, n = 10):\n",
    "    collection = get_collection()\n",
    "    retriever = collection.as_retriever(search_type=\"similarity\", search_kwargs={\"k\": n})\n",
    "    results = retriever.invoke(query)\n",
    "    return results\n"
   ]
  },
  {
   "cell_type": "code",
   "execution_count": 8,
   "metadata": {},
   "outputs": [],
   "source": [
    "def reranker(prompt: str, documents: list[str]) -> tuple[str,list[int]]:\n",
    "    document_texts = [doc.page_content for doc in documents if doc.page_content and doc.page_content.strip()]\n",
    "    \n",
    "    \n",
    "    relevant_text = \"\"\n",
    "    relevant_text_ids = []\n",
    "    encoder_model = CrossEncoder(\"cross-encoder/ms-marco-MiniLM-L-6-v2\")\n",
    "    ranks = encoder_model.rank(prompt, document_texts, top_k=5)\n",
    "    for rank in ranks:\n",
    "        relevant_text += document_texts[rank[\"corpus_id\"]]\n",
    "        relevant_text_ids.append(rank[\"corpus_id\"])\n",
    "\n",
    "    return relevant_text, relevant_text_ids"
   ]
  },
  {
   "cell_type": "code",
   "execution_count": 9,
   "metadata": {},
   "outputs": [],
   "source": [
    "#Imports for dataset calculation\n",
    "import pandas as pd\n",
    "\n",
    "goldenset = pd.read_csv(\"./ground_truth.csv\", index_col=0)"
   ]
  },
  {
   "cell_type": "code",
   "execution_count": 10,
   "metadata": {},
   "outputs": [
    {
     "data": {
      "text/html": [
       "<div>\n",
       "<style scoped>\n",
       "    .dataframe tbody tr th:only-of-type {\n",
       "        vertical-align: middle;\n",
       "    }\n",
       "\n",
       "    .dataframe tbody tr th {\n",
       "        vertical-align: top;\n",
       "    }\n",
       "\n",
       "    .dataframe thead th {\n",
       "        text-align: right;\n",
       "    }\n",
       "</style>\n",
       "<table border=\"1\" class=\"dataframe\">\n",
       "  <thead>\n",
       "    <tr style=\"text-align: right;\">\n",
       "      <th></th>\n",
       "      <th>QUESTION</th>\n",
       "      <th>ANSWER</th>\n",
       "      <th>MARKS</th>\n",
       "      <th>CRITERIA</th>\n",
       "    </tr>\n",
       "    <tr>\n",
       "      <th>ID</th>\n",
       "      <th></th>\n",
       "      <th></th>\n",
       "      <th></th>\n",
       "      <th></th>\n",
       "    </tr>\n",
       "  </thead>\n",
       "  <tbody>\n",
       "    <tr>\n",
       "      <th>1</th>\n",
       "      <td>Define the term ‘adaptation’</td>\n",
       "      <td>Adaptation are the inherited favourable charac...</td>\n",
       "      <td>1</td>\n",
       "      <td>1 mark = correctly definition of adaptation</td>\n",
       "    </tr>\n",
       "    <tr>\n",
       "      <th>2</th>\n",
       "      <td>Distinguish between sexual reproduction and as...</td>\n",
       "      <td>Sexual reproduction, such as meiosis, is the p...</td>\n",
       "      <td>4</td>\n",
       "      <td>1 mark = Define sexual reproduction\\r\\n\\r\\n1 m...</td>\n",
       "    </tr>\n",
       "    <tr>\n",
       "      <th>3</th>\n",
       "      <td>What is the difference between a somatic cell ...</td>\n",
       "      <td>Somatic cells are all the diploid cells in the...</td>\n",
       "      <td>3</td>\n",
       "      <td>1 mark = Explains the difference between gamet...</td>\n",
       "    </tr>\n",
       "    <tr>\n",
       "      <th>4</th>\n",
       "      <td>Where would you find a follicle and what is it...</td>\n",
       "      <td>A follicle is a group of cells in the ovary th...</td>\n",
       "      <td>2</td>\n",
       "      <td>1 mark = Gave the location of the follicle\\r\\n...</td>\n",
       "    </tr>\n",
       "    <tr>\n",
       "      <th>5</th>\n",
       "      <td>Within a cell cycle, cell replication involves...</td>\n",
       "      <td>The cell cycle involves three phases: interpha...</td>\n",
       "      <td>3</td>\n",
       "      <td>1 mark = Gives the first phase: interphase, an...</td>\n",
       "    </tr>\n",
       "  </tbody>\n",
       "</table>\n",
       "</div>"
      ],
      "text/plain": [
       "                                              QUESTION  \\\n",
       "ID                                                       \n",
       "1                         Define the term ‘adaptation’   \n",
       "2    Distinguish between sexual reproduction and as...   \n",
       "3    What is the difference between a somatic cell ...   \n",
       "4    Where would you find a follicle and what is it...   \n",
       "5    Within a cell cycle, cell replication involves...   \n",
       "\n",
       "                                                ANSWER  MARKS  \\\n",
       "ID                                                              \n",
       "1    Adaptation are the inherited favourable charac...      1   \n",
       "2    Sexual reproduction, such as meiosis, is the p...      4   \n",
       "3    Somatic cells are all the diploid cells in the...      3   \n",
       "4    A follicle is a group of cells in the ovary th...      2   \n",
       "5    The cell cycle involves three phases: interpha...      3   \n",
       "\n",
       "                                              CRITERIA  \n",
       "ID                                                      \n",
       "1          1 mark = correctly definition of adaptation  \n",
       "2    1 mark = Define sexual reproduction\\r\\n\\r\\n1 m...  \n",
       "3    1 mark = Explains the difference between gamet...  \n",
       "4    1 mark = Gave the location of the follicle\\r\\n...  \n",
       "5    1 mark = Gives the first phase: interphase, an...  "
      ]
     },
     "execution_count": 10,
     "metadata": {},
     "output_type": "execute_result"
    }
   ],
   "source": [
    "goldenset.head()"
   ]
  },
  {
   "cell_type": "code",
   "execution_count": 11,
   "metadata": {},
   "outputs": [],
   "source": [
    "questions = goldenset['QUESTION'].values.tolist()\n",
    "reference_answers = goldenset['ANSWER'].values.tolist()"
   ]
  },
  {
   "cell_type": "markdown",
   "metadata": {},
   "source": [
    "## LLM ANSWER GENERATION PROCESS"
   ]
  },
  {
   "cell_type": "markdown",
   "metadata": {},
   "source": [
    "### GENERATE AI REPSONSES - MODEL 1: Just LLAMA3.1-8b NO RAG/SELF-KNOWLEDGE"
   ]
  },
  {
   "cell_type": "code",
   "execution_count": 12,
   "metadata": {},
   "outputs": [],
   "source": [
    "model1_generated_answers = [] \n",
    "for question in questions:\n",
    "    response = get_response(prompt=question, context=\"No context provided\")\n",
    "    model1_generated_answers.append(response)"
   ]
  },
  {
   "cell_type": "code",
   "execution_count": 13,
   "metadata": {},
   "outputs": [
    {
     "data": {
      "text/plain": [
       "30"
      ]
     },
     "execution_count": 13,
     "metadata": {},
     "output_type": "execute_result"
    }
   ],
   "source": [
    "len(model1_generated_answers)"
   ]
  },
  {
   "cell_type": "code",
   "execution_count": 14,
   "metadata": {},
   "outputs": [
    {
     "data": {
      "text/plain": [
       "['The term \"adaptation\" refers to a trait or behavior that enhances an organism\\'s ability to survive and reproduce in its environment. It is a characteristic that has evolved over time through the process of natural selection, allowing individuals with favorable traits to better cope with their surroundings. Adaptations can be physical, such as the development of wings in birds, or behavioral, like the migration patterns of certain animals.',\n",
       " 'Sexual reproduction involves the combination of genetic material from two parents to produce offspring with unique characteristics, whereas asexual reproduction involves the production of offspring that are genetically identical to the parent through methods such as budding or binary fission. Sexual reproduction requires two individuals, while asexual reproduction can occur in one individual. This results in greater genetic diversity in sexually reproduced offspring compared to asexually reproduced offspring. Asexual reproduction is often faster and more efficient than sexual reproduction.',\n",
       " 'A somatic cell is any cell in the body that is not a reproductive cell, such as skin cells or muscle cells. Gametes, on the other hand, are specialized reproductive cells, including sperm and egg cells. Somatic cells have 46 chromosomes, while gametes have 23 chromosomes. For example, a skin cell (somatic) and an egg cell (gamete) are two different types of cells with distinct functions and characteristics.',\n",
       " 'A follicle is typically found in the skin or on the scalp, where it surrounds a hair shaft. Its primary function is to produce sebum, an oily substance that helps to moisturize and protect the surrounding skin and hair. The follicle also provides a protective environment for the hair growth cycle, allowing the hair to grow and eventually be shed.',\n",
       " 'The three phases of cell replication within a cell cycle are Interphase, Prophase, and Telophase.\\n\\nInterphase is the longest phase where the cell grows, prepares for DNA replication, and replicates its DNA.\\n\\nProphase is the first division phase where chromosomes condense, the nuclear envelope breaks down, and the spindle fibers form.\\n\\nTelophase is the final division phase where chromosomes uncoil, a new nuclear envelope forms around each set of chromosomes, and the cytoplasm divides.']"
      ]
     },
     "execution_count": 14,
     "metadata": {},
     "output_type": "execute_result"
    }
   ],
   "source": [
    "model1_generated_answers[:5]"
   ]
  },
  {
   "cell_type": "markdown",
   "metadata": {},
   "source": [
    "### GENERATE AI RESPONSES - MODEL 2: Just LLAMA3.2-1b NO RAG/SELF-KNOWLEDGE ONLY"
   ]
  },
  {
   "cell_type": "code",
   "execution_count": 15,
   "metadata": {},
   "outputs": [],
   "source": [
    "llm_model = ChatOllama(model=\"llama3.2:1b\", temperature=0)"
   ]
  },
  {
   "cell_type": "code",
   "execution_count": 16,
   "metadata": {},
   "outputs": [],
   "source": [
    "model2_generated_answers = [] \n",
    "for question in questions:\n",
    "    response = get_response(prompt=question, context=\"No context provided\")\n",
    "    model2_generated_answers.append(response)"
   ]
  },
  {
   "cell_type": "code",
   "execution_count": 17,
   "metadata": {},
   "outputs": [
    {
     "data": {
      "text/plain": [
       "30"
      ]
     },
     "execution_count": 17,
     "metadata": {},
     "output_type": "execute_result"
    }
   ],
   "source": [
    "len(model2_generated_answers)"
   ]
  },
  {
   "cell_type": "code",
   "execution_count": 18,
   "metadata": {},
   "outputs": [
    {
     "data": {
      "text/plain": [
       "['Adaptation refers to the process by which an organism or a system changes or adjusts itself in response to environmental factors, such as temperature, light, or chemicals, to ensure its survival and fitness. This can involve physiological changes, behavioral adaptations, or morphological modifications that enable the individual or entity to better interact with its surroundings. Adaptation is a fundamental concept in biology, ecology, and evolutionary theory, highlighting the dynamic and ongoing process of change in living systems. It allows organisms to thrive in diverse environments and maintain their reproductive success.',\n",
       " 'Sexual reproduction involves the combination of genetic material from two parents to produce offspring with unique characteristics, whereas asexual reproduction involves the production of offspring without the involvement of gametes (sex cells) from another individual. In asexual reproduction, an organism can produce offspring that are genetically identical to itself through processes such as binary fission or budding. This is in contrast to sexual reproduction, where genetic variation is introduced through the mixing of genetic material during fertilization. Asexual reproduction is often seen in single-celled organisms and some multicellular organisms, while sexual reproduction is more commonly found in complex life forms like plants and animals.',\n",
       " \"A somatic cell, also known as a body cell or non-reproductive cell, is any type of cell that is not involved in reproduction. In contrast, a gamete is a cell that is involved in the production of offspring through reproduction. Gametes are typically produced by reproductive cells such as sperm and eggs (oocytes). For example, a somatic cell might be a skin cell or a muscle cell, while an egg cell (a type of gamete) would be a female oocyte.\\n\\nHere's another example: A somatic cell in the human body is a red blood cell, which carries oxygen throughout the body. In contrast, an egg cell (gamete) is the female reproductive cell that contains the genetic material necessary for the development of a new individual.\",\n",
       " 'A follicle is a small, usually rounded or oval structure found in various parts of the body, particularly in glands and organs. In the context of hair growth, a follicle refers to the tiny sac-like structure where hair roots reside. The primary function of a follicle is to produce and maintain hair, with each follicle containing multiple hair shafts that grow out from it. This process is essential for maintaining healthy and full-body hair growth.',\n",
       " 'The three phases of cell replication within a cell cycle are:\\n\\n1. **Interphase**: This is the longest phase of the cell cycle, during which the cell grows, replicates its DNA, and prepares for cell division.\\n2. **Prophase**: During prophase, the chromatin condenses into visible chromosomes, the nuclear envelope breaks down, and the mitotic spindle forms to separate the chromosomes.\\n3. **Metaphase**: In metaphase, the chromosomes line up at the center of the cell, attached to the mitotic spindle, ready for separation during anaphase.\\n\\nThese phases are crucial for ensuring accurate DNA replication and proper cell division.']"
      ]
     },
     "execution_count": 18,
     "metadata": {},
     "output_type": "execute_result"
    }
   ],
   "source": [
    "model2_generated_answers[:5]"
   ]
  },
  {
   "cell_type": "markdown",
   "metadata": {},
   "source": [
    "### GENERATE AI RESPONSES - MODEL 1A: LLAMA3.1-8b WITH RAG"
   ]
  },
  {
   "cell_type": "code",
   "execution_count": 19,
   "metadata": {},
   "outputs": [],
   "source": [
    "llm_model = ChatOllama(model=\"llama3.1\", temperature=0)"
   ]
  },
  {
   "cell_type": "code",
   "execution_count": 20,
   "metadata": {},
   "outputs": [
    {
     "name": "stderr",
     "output_type": "stream",
     "text": [
      "⚠️ It looks like you upgraded from a version below 0.6 and could benefit from vacuuming your database. Run chromadb utils vacuum --help for more information.\n"
     ]
    }
   ],
   "source": [
    "model1a_generated_answers = [] \n",
    "for user_query in questions:\n",
    "    results = perform_retrieval(user_query)\n",
    "    relevant_text, relevant_text_ids = reranker(user_query, results)\n",
    "    response = get_response(context=relevant_text, prompt=user_query)\n",
    "    model1a_generated_answers.append(response)"
   ]
  },
  {
   "cell_type": "code",
   "execution_count": 21,
   "metadata": {},
   "outputs": [
    {
     "data": {
      "text/plain": [
       "30"
      ]
     },
     "execution_count": 21,
     "metadata": {},
     "output_type": "execute_result"
    }
   ],
   "source": [
    "len(model1a_generated_answers)"
   ]
  },
  {
   "cell_type": "code",
   "execution_count": 22,
   "metadata": {},
   "outputs": [
    {
     "data": {
      "text/plain": [
       "['An adaptation is a characteristic that an organism has inherited and makes it suited for its environment. It is a result of change that arises via mutation, when a cell divides and replicates during the process of reproduction. Adaptations are traits of a species that help them survive in their environment.',\n",
       " 'Reproduction ensures the continuity of a species through two main methods: sexual reproduction, which involves combining genetic information from two individuals to produce offspring with unique characteristics; and asexual reproduction, where offspring arise from a single organism, inheriting its genes. Asexual reproduction is faster and requires less energy but can lead to large-scale extinction and limited adaptation to selection pressure. In contrast, sexual reproduction increases genetic diversity and allows species to adapt to changing environments.',\n",
       " 'A somatic cell is a body cell that contains two copies of each chromosome, whereas a gamete (such as a sperm or egg cell) is a reproductive cell that contains half the genetic material of the organism. An example of a somatic cell is a skin cell, which has 46 chromosomes in humans. An example of a gamete is a human sperm or ovum, which has 23 chromosomes.',\n",
       " 'Unfortunately, the provided documents do not mention follicles. However, based on general knowledge, a follicle is typically found in animals, specifically in the skin or ovaries, and it has a function related to hair growth or egg production. In plants, however, there is no equivalent structure called a follicle.',\n",
       " 'The three phases of cell replication within a cell cycle are:\\n\\n1. G1 phase (growth), where the cell grows by producing proteins and more organelles.\\n2. S phase (synthesis), where DNA replication occurs, resulting in each chromosome being made of two identical chromatids.\\n3. G2 phase (proofreading), where the cell checks for duplication errors and fixes mistakes before entering mitosis.']"
      ]
     },
     "execution_count": 22,
     "metadata": {},
     "output_type": "execute_result"
    }
   ],
   "source": [
    "model1a_generated_answers[:5]"
   ]
  },
  {
   "cell_type": "markdown",
   "metadata": {},
   "source": [
    "### GENERATE AI RESPONSES - MODEL 2A: LLAMA3.2-1b WITH RAG"
   ]
  },
  {
   "cell_type": "code",
   "execution_count": 23,
   "metadata": {},
   "outputs": [],
   "source": [
    "llm_model = ChatOllama(model=\"llama3.2:1b\", temperature=0)"
   ]
  },
  {
   "cell_type": "code",
   "execution_count": 24,
   "metadata": {},
   "outputs": [],
   "source": [
    "model2a_generated_answers = [] \n",
    "for user_query in questions:\n",
    "    results = perform_retrieval(user_query)\n",
    "    relevant_text, relevant_text_ids = reranker(user_query, results)\n",
    "    response = get_response(context=relevant_text, prompt=user_query)\n",
    "    model2a_generated_answers.append(response)"
   ]
  },
  {
   "cell_type": "code",
   "execution_count": 25,
   "metadata": {},
   "outputs": [
    {
     "data": {
      "text/plain": [
       "['An adaptation is a characteristic that an organism has inherited and makes it suited for its environment. It can be classified into three types: structural (physical features), behavioral (actions), and physiological (internal or cellular processes). Adaptations help organisms survive in their environment by reducing water loss, such as through leaf size reduction, and also provide other benefits like protection from the sun or wind.',\n",
       " 'Reproduction ensures the continuity of a species by allowing for the rapid growth and establishment of new individuals. Asexual reproduction, such as budding or binary fission, can produce offspring that are genetically identical to the parent, while sexual reproduction involves the fusion of gametes from two different sexes, resulting in genetic diversity. This difference highlights the importance of both types of reproduction in maintaining species continuity.',\n",
       " 'A somatic cell is a type of body cell that makes up most of the non-reproductive cells in the body, such as skin, muscle, and bone tissue. On the other hand, a gamete (sex cell) is a reproductive cell that contains half the genetic material of an organism, such as sperm or egg cells.\\n\\nAn example of a somatic cell is human skin cells, which are all diploid (46 chromosomes) and contain two copies of each chromosome. An example of a gamete is a sperm cell from a male human, which has 23 chromosomes and contains one copy of each pair of chromosomes.\\n\\nIn contrast, an egg cell (ovum) from a female human has 23 chromosomes and contains only one copy of each pair of chromosomes.',\n",
       " 'A follicle is not mentioned in the provided text. However, I can provide information on where to find a follicle.\\n\\nIn humans, a follicle is typically found in the ovaries, which are part of the female reproductive system. The ovaries contain several types of follicles, including:\\n\\n* Graafian follicles: These are mature follicles that contain an egg and are released from the ovary during ovulation.\\n* Dominant follicles: These are larger follicles that have a higher concentration of estrogen and are more likely to release an egg during ovulation.\\n\\nIn plants, follicles are not typically found. However, some plant structures can be referred to as \"follicles\" due to their resemblance in shape or function. For example, the flower buds on a stem can be thought of as follicles, but they are actually modified leaves that contain seeds.',\n",
       " 'The three phases of cell replication within the cell cycle are:\\n\\n1. **G1 Phase**: During this phase, the cell grows and prepares for DNA replication by producing proteins and organelles.\\n2. **S Phase (Synthesis)**: In this phase, all 46 chromosomes in the nucleus are duplicated to form two identical daughter chromosomes.\\n3. **G2 Phase (Proofreading)**: The cell checks for duplication errors and fixes mistakes before entering mitosis.\\n\\nThese three phases are essential for cell division and growth, and they occur in a repetitive cycle throughout the cell cycle.']"
      ]
     },
     "execution_count": 25,
     "metadata": {},
     "output_type": "execute_result"
    }
   ],
   "source": [
    "model2a_generated_answers[:5]"
   ]
  },
  {
   "cell_type": "markdown",
   "metadata": {},
   "source": [
    "### COLLATED GENERATION INTO FILE"
   ]
  },
  {
   "cell_type": "code",
   "execution_count": 26,
   "metadata": {},
   "outputs": [],
   "source": [
    "ground_truth_df = pd.read_csv(\"./ground_truth.csv\", index_col=0)"
   ]
  },
  {
   "cell_type": "code",
   "execution_count": 27,
   "metadata": {},
   "outputs": [
    {
     "data": {
      "text/html": [
       "<div>\n",
       "<style scoped>\n",
       "    .dataframe tbody tr th:only-of-type {\n",
       "        vertical-align: middle;\n",
       "    }\n",
       "\n",
       "    .dataframe tbody tr th {\n",
       "        vertical-align: top;\n",
       "    }\n",
       "\n",
       "    .dataframe thead th {\n",
       "        text-align: right;\n",
       "    }\n",
       "</style>\n",
       "<table border=\"1\" class=\"dataframe\">\n",
       "  <thead>\n",
       "    <tr style=\"text-align: right;\">\n",
       "      <th></th>\n",
       "      <th>QUESTION</th>\n",
       "      <th>ANSWER</th>\n",
       "      <th>MARKS</th>\n",
       "      <th>CRITERIA</th>\n",
       "    </tr>\n",
       "    <tr>\n",
       "      <th>ID</th>\n",
       "      <th></th>\n",
       "      <th></th>\n",
       "      <th></th>\n",
       "      <th></th>\n",
       "    </tr>\n",
       "  </thead>\n",
       "  <tbody>\n",
       "    <tr>\n",
       "      <th>1</th>\n",
       "      <td>Define the term ‘adaptation’</td>\n",
       "      <td>Adaptation are the inherited favourable charac...</td>\n",
       "      <td>1</td>\n",
       "      <td>1 mark = correctly definition of adaptation</td>\n",
       "    </tr>\n",
       "    <tr>\n",
       "      <th>2</th>\n",
       "      <td>Distinguish between sexual reproduction and as...</td>\n",
       "      <td>Sexual reproduction, such as meiosis, is the p...</td>\n",
       "      <td>4</td>\n",
       "      <td>1 mark = Define sexual reproduction\\r\\n\\r\\n1 m...</td>\n",
       "    </tr>\n",
       "    <tr>\n",
       "      <th>3</th>\n",
       "      <td>What is the difference between a somatic cell ...</td>\n",
       "      <td>Somatic cells are all the diploid cells in the...</td>\n",
       "      <td>3</td>\n",
       "      <td>1 mark = Explains the difference between gamet...</td>\n",
       "    </tr>\n",
       "    <tr>\n",
       "      <th>4</th>\n",
       "      <td>Where would you find a follicle and what is it...</td>\n",
       "      <td>A follicle is a group of cells in the ovary th...</td>\n",
       "      <td>2</td>\n",
       "      <td>1 mark = Gave the location of the follicle\\r\\n...</td>\n",
       "    </tr>\n",
       "    <tr>\n",
       "      <th>5</th>\n",
       "      <td>Within a cell cycle, cell replication involves...</td>\n",
       "      <td>The cell cycle involves three phases: interpha...</td>\n",
       "      <td>3</td>\n",
       "      <td>1 mark = Gives the first phase: interphase, an...</td>\n",
       "    </tr>\n",
       "    <tr>\n",
       "      <th>6</th>\n",
       "      <td>Recall the names of the two cell division proc...</td>\n",
       "      <td>Mitosis—produces identical new cells for growt...</td>\n",
       "      <td>4</td>\n",
       "      <td>1 mark = Mentions mitosis \\r\\n\\r\\n1 mark = Men...</td>\n",
       "    </tr>\n",
       "    <tr>\n",
       "      <th>7</th>\n",
       "      <td>Explain what is meant by a protein becoming 'd...</td>\n",
       "      <td>A protein is said to be denatured when the hyd...</td>\n",
       "      <td>2</td>\n",
       "      <td>1 mark = Defines what 'denatured' means\\r\\n\\r\\...</td>\n",
       "    </tr>\n",
       "    <tr>\n",
       "      <th>8</th>\n",
       "      <td>What is the Law of Independent Assortment and ...</td>\n",
       "      <td>Mendel’s second law of inheritance, the Law of...</td>\n",
       "      <td>1</td>\n",
       "      <td>1 mark = States what Law of independent assort...</td>\n",
       "    </tr>\n",
       "    <tr>\n",
       "      <th>9</th>\n",
       "      <td>Define 'genetic testing'.</td>\n",
       "      <td>Genetic testing is a medical test used to dete...</td>\n",
       "      <td>1</td>\n",
       "      <td>1 mark = defines 'Genetic testing'</td>\n",
       "    </tr>\n",
       "    <tr>\n",
       "      <th>10</th>\n",
       "      <td>Explain why silent mutations are called 'silent'.</td>\n",
       "      <td>Silent mutations are silent because they do no...</td>\n",
       "      <td>2</td>\n",
       "      <td>1 mark = Mentions silent mutations in the answ...</td>\n",
       "    </tr>\n",
       "    <tr>\n",
       "      <th>11</th>\n",
       "      <td>Is the following statement true or false?\\nMut...</td>\n",
       "      <td>False.</td>\n",
       "      <td>1</td>\n",
       "      <td>1 mark = Correctly answers False</td>\n",
       "    </tr>\n",
       "    <tr>\n",
       "      <th>12</th>\n",
       "      <td>Define the term 'biotechnology'.</td>\n",
       "      <td>Biotechnology is an interdisciplinary technolo...</td>\n",
       "      <td>1</td>\n",
       "      <td>1 mark = Defines 'biotechnology' correctly</td>\n",
       "    </tr>\n",
       "    <tr>\n",
       "      <th>13</th>\n",
       "      <td>Define the term 'selective breeding' and provi...</td>\n",
       "      <td>Selective breeding is a process where the anim...</td>\n",
       "      <td>2</td>\n",
       "      <td>1 mark = Defines 'selective breeding' correctl...</td>\n",
       "    </tr>\n",
       "    <tr>\n",
       "      <th>14</th>\n",
       "      <td>Differentiate between in situ and ex situ cons...</td>\n",
       "      <td>In situ practices maintain the organism in its...</td>\n",
       "      <td>2</td>\n",
       "      <td>1 mark = Explains what 'in situ' means\\r\\n\\r\\n...</td>\n",
       "    </tr>\n",
       "    <tr>\n",
       "      <th>15</th>\n",
       "      <td>How does artificial insemination differ from i...</td>\n",
       "      <td>Artificial insemination involves the delivery ...</td>\n",
       "      <td>2</td>\n",
       "      <td>1 mark = Explains what 'artificial insemenatio...</td>\n",
       "    </tr>\n",
       "    <tr>\n",
       "      <th>16</th>\n",
       "      <td>What is meant by the term 'virulence' ?</td>\n",
       "      <td>The ability of a pathogen to cause disease. Ho...</td>\n",
       "      <td>1</td>\n",
       "      <td>1 mark = Correctly identifies what 'virulence' is</td>\n",
       "    </tr>\n",
       "    <tr>\n",
       "      <th>17</th>\n",
       "      <td>What are Koch's four postulates?</td>\n",
       "      <td>1. The microorganism must be present in the ti...</td>\n",
       "      <td>4</td>\n",
       "      <td>1 mark = names a postulate\\r\\n\\r\\n1 mark = nam...</td>\n",
       "    </tr>\n",
       "    <tr>\n",
       "      <th>18</th>\n",
       "      <td>What is a zoonotic disease? Give an example of...</td>\n",
       "      <td>A zoonotic disease is a disease that has passe...</td>\n",
       "      <td>2</td>\n",
       "      <td>1 mark = Correctly defines \"zoonotic disease\"\\...</td>\n",
       "    </tr>\n",
       "    <tr>\n",
       "      <th>19</th>\n",
       "      <td>How does sneezing advance transmission of\\r\\np...</td>\n",
       "      <td>Some pathogens have adaptations that cause the...</td>\n",
       "      <td>2</td>\n",
       "      <td>1 mark = Correctly states what pathogens do to...</td>\n",
       "    </tr>\n",
       "    <tr>\n",
       "      <th>20</th>\n",
       "      <td>Explain why the lymphatic system\\r\\nis an impo...</td>\n",
       "      <td>The lymphatic system is an important part of t...</td>\n",
       "      <td>2</td>\n",
       "      <td>1 mark = Explains what lymphatic system is \\r\\...</td>\n",
       "    </tr>\n",
       "    <tr>\n",
       "      <th>21</th>\n",
       "      <td>How can an organism become pathogenic and caus...</td>\n",
       "      <td>New diseases emerge because of mutations in a ...</td>\n",
       "      <td>2</td>\n",
       "      <td>1 mark = Explains how organisms become pathoge...</td>\n",
       "    </tr>\n",
       "    <tr>\n",
       "      <th>22</th>\n",
       "      <td>Explain how antiseptics and disinfectants diff...</td>\n",
       "      <td>Disinfectants are used to kill pathogens on su...</td>\n",
       "      <td>3</td>\n",
       "      <td>1 mark = Explains what antiseptics are\\r\\n\\r\\n...</td>\n",
       "    </tr>\n",
       "    <tr>\n",
       "      <th>23</th>\n",
       "      <td>Distinguish between an epidemic and a pandemic.</td>\n",
       "      <td>An epidemic is the sudden increase in the numb...</td>\n",
       "      <td>3</td>\n",
       "      <td>1 mark = correctly defines an epidemic\\r\\n\\r\\n...</td>\n",
       "    </tr>\n",
       "    <tr>\n",
       "      <th>24</th>\n",
       "      <td>Describe herd immunity.</td>\n",
       "      <td>Herd immunity is when a large number of people...</td>\n",
       "      <td>1</td>\n",
       "      <td>1 mark = correctly defines 'herd immunity'</td>\n",
       "    </tr>\n",
       "    <tr>\n",
       "      <th>25</th>\n",
       "      <td>What are three mechanisms humans use to produc...</td>\n",
       "      <td>Answers may include:\\r\\n• voluntary movement/p...</td>\n",
       "      <td>3</td>\n",
       "      <td>1 mark = correctly includes only one mechanism...</td>\n",
       "    </tr>\n",
       "    <tr>\n",
       "      <th>26</th>\n",
       "      <td>What are 'signalling molecules'?</td>\n",
       "      <td>Signalling molecules are chemicals involved in...</td>\n",
       "      <td>1</td>\n",
       "      <td>1 mark = correctly defines signaling molecules</td>\n",
       "    </tr>\n",
       "    <tr>\n",
       "      <th>27</th>\n",
       "      <td>What is the liver's role in homeostasis? Outli...</td>\n",
       "      <td>The liver minimises the greater changes in blo...</td>\n",
       "      <td>2</td>\n",
       "      <td>1 mark = defines the function of the liver\\r\\n...</td>\n",
       "    </tr>\n",
       "    <tr>\n",
       "      <th>28</th>\n",
       "      <td>What does a nutritional disease result from?</td>\n",
       "      <td>Nutritional diseases can be caused by a lack o...</td>\n",
       "      <td>1</td>\n",
       "      <td>1 mark = correctly identifies what 'nutritiona...</td>\n",
       "    </tr>\n",
       "    <tr>\n",
       "      <th>29</th>\n",
       "      <td>Describe the two functions of the ear ossicles.</td>\n",
       "      <td>The three ear bones (ossicles) amplify (increa...</td>\n",
       "      <td>2</td>\n",
       "      <td>1 mark = defines one function correctly\\r\\n\\r\\...</td>\n",
       "    </tr>\n",
       "    <tr>\n",
       "      <th>30</th>\n",
       "      <td>Name the two hormones responsible for regulati...</td>\n",
       "      <td>ADH (antidiuretic hormone)—responds to water l...</td>\n",
       "      <td>2</td>\n",
       "      <td>1 mark = mentions one correct hormone\\r\\n\\r\\n1...</td>\n",
       "    </tr>\n",
       "  </tbody>\n",
       "</table>\n",
       "</div>"
      ],
      "text/plain": [
       "                                              QUESTION  \\\n",
       "ID                                                       \n",
       "1                         Define the term ‘adaptation’   \n",
       "2    Distinguish between sexual reproduction and as...   \n",
       "3    What is the difference between a somatic cell ...   \n",
       "4    Where would you find a follicle and what is it...   \n",
       "5    Within a cell cycle, cell replication involves...   \n",
       "6    Recall the names of the two cell division proc...   \n",
       "7    Explain what is meant by a protein becoming 'd...   \n",
       "8    What is the Law of Independent Assortment and ...   \n",
       "9                            Define 'genetic testing'.   \n",
       "10   Explain why silent mutations are called 'silent'.   \n",
       "11   Is the following statement true or false?\\nMut...   \n",
       "12                    Define the term 'biotechnology'.   \n",
       "13   Define the term 'selective breeding' and provi...   \n",
       "14   Differentiate between in situ and ex situ cons...   \n",
       "15   How does artificial insemination differ from i...   \n",
       "16             What is meant by the term 'virulence' ?   \n",
       "17                    What are Koch's four postulates?   \n",
       "18   What is a zoonotic disease? Give an example of...   \n",
       "19   How does sneezing advance transmission of\\r\\np...   \n",
       "20   Explain why the lymphatic system\\r\\nis an impo...   \n",
       "21   How can an organism become pathogenic and caus...   \n",
       "22   Explain how antiseptics and disinfectants diff...   \n",
       "23     Distinguish between an epidemic and a pandemic.   \n",
       "24                             Describe herd immunity.   \n",
       "25   What are three mechanisms humans use to produc...   \n",
       "26                    What are 'signalling molecules'?   \n",
       "27   What is the liver's role in homeostasis? Outli...   \n",
       "28        What does a nutritional disease result from?   \n",
       "29     Describe the two functions of the ear ossicles.   \n",
       "30   Name the two hormones responsible for regulati...   \n",
       "\n",
       "                                                ANSWER  MARKS  \\\n",
       "ID                                                              \n",
       "1    Adaptation are the inherited favourable charac...      1   \n",
       "2    Sexual reproduction, such as meiosis, is the p...      4   \n",
       "3    Somatic cells are all the diploid cells in the...      3   \n",
       "4    A follicle is a group of cells in the ovary th...      2   \n",
       "5    The cell cycle involves three phases: interpha...      3   \n",
       "6    Mitosis—produces identical new cells for growt...      4   \n",
       "7    A protein is said to be denatured when the hyd...      2   \n",
       "8    Mendel’s second law of inheritance, the Law of...      1   \n",
       "9    Genetic testing is a medical test used to dete...      1   \n",
       "10   Silent mutations are silent because they do no...      2   \n",
       "11                                              False.      1   \n",
       "12   Biotechnology is an interdisciplinary technolo...      1   \n",
       "13   Selective breeding is a process where the anim...      2   \n",
       "14   In situ practices maintain the organism in its...      2   \n",
       "15   Artificial insemination involves the delivery ...      2   \n",
       "16   The ability of a pathogen to cause disease. Ho...      1   \n",
       "17   1. The microorganism must be present in the ti...      4   \n",
       "18   A zoonotic disease is a disease that has passe...      2   \n",
       "19   Some pathogens have adaptations that cause the...      2   \n",
       "20   The lymphatic system is an important part of t...      2   \n",
       "21   New diseases emerge because of mutations in a ...      2   \n",
       "22   Disinfectants are used to kill pathogens on su...      3   \n",
       "23   An epidemic is the sudden increase in the numb...      3   \n",
       "24   Herd immunity is when a large number of people...      1   \n",
       "25   Answers may include:\\r\\n• voluntary movement/p...      3   \n",
       "26   Signalling molecules are chemicals involved in...      1   \n",
       "27   The liver minimises the greater changes in blo...      2   \n",
       "28   Nutritional diseases can be caused by a lack o...      1   \n",
       "29   The three ear bones (ossicles) amplify (increa...      2   \n",
       "30   ADH (antidiuretic hormone)—responds to water l...      2   \n",
       "\n",
       "                                              CRITERIA  \n",
       "ID                                                      \n",
       "1          1 mark = correctly definition of adaptation  \n",
       "2    1 mark = Define sexual reproduction\\r\\n\\r\\n1 m...  \n",
       "3    1 mark = Explains the difference between gamet...  \n",
       "4    1 mark = Gave the location of the follicle\\r\\n...  \n",
       "5    1 mark = Gives the first phase: interphase, an...  \n",
       "6    1 mark = Mentions mitosis \\r\\n\\r\\n1 mark = Men...  \n",
       "7    1 mark = Defines what 'denatured' means\\r\\n\\r\\...  \n",
       "8    1 mark = States what Law of independent assort...  \n",
       "9                   1 mark = defines 'Genetic testing'  \n",
       "10   1 mark = Mentions silent mutations in the answ...  \n",
       "11                    1 mark = Correctly answers False  \n",
       "12          1 mark = Defines 'biotechnology' correctly  \n",
       "13   1 mark = Defines 'selective breeding' correctl...  \n",
       "14   1 mark = Explains what 'in situ' means\\r\\n\\r\\n...  \n",
       "15   1 mark = Explains what 'artificial insemenatio...  \n",
       "16   1 mark = Correctly identifies what 'virulence' is  \n",
       "17   1 mark = names a postulate\\r\\n\\r\\n1 mark = nam...  \n",
       "18   1 mark = Correctly defines \"zoonotic disease\"\\...  \n",
       "19   1 mark = Correctly states what pathogens do to...  \n",
       "20   1 mark = Explains what lymphatic system is \\r\\...  \n",
       "21   1 mark = Explains how organisms become pathoge...  \n",
       "22   1 mark = Explains what antiseptics are\\r\\n\\r\\n...  \n",
       "23   1 mark = correctly defines an epidemic\\r\\n\\r\\n...  \n",
       "24          1 mark = correctly defines 'herd immunity'  \n",
       "25   1 mark = correctly includes only one mechanism...  \n",
       "26      1 mark = correctly defines signaling molecules  \n",
       "27   1 mark = defines the function of the liver\\r\\n...  \n",
       "28   1 mark = correctly identifies what 'nutritiona...  \n",
       "29   1 mark = defines one function correctly\\r\\n\\r\\...  \n",
       "30   1 mark = mentions one correct hormone\\r\\n\\r\\n1...  "
      ]
     },
     "execution_count": 27,
     "metadata": {},
     "output_type": "execute_result"
    }
   ],
   "source": [
    "#check whether the ground_truth was read correctly\n",
    "ground_truth_df"
   ]
  },
  {
   "cell_type": "code",
   "execution_count": 28,
   "metadata": {},
   "outputs": [
    {
     "data": {
      "text/plain": [
       "30"
      ]
     },
     "execution_count": 28,
     "metadata": {},
     "output_type": "execute_result"
    }
   ],
   "source": [
    "#create a index list the same size as ground_truth\n",
    "index_list = []\n",
    "for i in range(1, len(questions)+1):\n",
    "    index_list.append(i)\n",
    "\n",
    "len(index_list)"
   ]
  },
  {
   "cell_type": "code",
   "execution_count": 29,
   "metadata": {},
   "outputs": [
    {
     "name": "stdout",
     "output_type": "stream",
     "text": [
      "30\n",
      "30\n",
      "30\n",
      "30\n"
     ]
    }
   ],
   "source": [
    "print(len(model1_generated_answers))\n",
    "print(len(model2_generated_answers))\n",
    "print(len(model1a_generated_answers))\n",
    "print(len(model2a_generated_answers))\n"
   ]
  },
  {
   "cell_type": "code",
   "execution_count": 30,
   "metadata": {},
   "outputs": [],
   "source": [
    "#Combine the response generation into one dataframe\n",
    "generated_df = pd.DataFrame({\n",
    "    'Model1_GA': model1_generated_answers,\n",
    "    'Model2_GA': model2_generated_answers,\n",
    "    'Model1a_GA': model1a_generated_answers,\n",
    "    'Model2a_GA': model2a_generated_answers\n",
    "})\n",
    "\n",
    "#Make the index the same ID as the ground_truth "
   ]
  },
  {
   "cell_type": "code",
   "execution_count": 34,
   "metadata": {},
   "outputs": [
    {
     "data": {
      "text/html": [
       "<div>\n",
       "<style scoped>\n",
       "    .dataframe tbody tr th:only-of-type {\n",
       "        vertical-align: middle;\n",
       "    }\n",
       "\n",
       "    .dataframe tbody tr th {\n",
       "        vertical-align: top;\n",
       "    }\n",
       "\n",
       "    .dataframe thead th {\n",
       "        text-align: right;\n",
       "    }\n",
       "</style>\n",
       "<table border=\"1\" class=\"dataframe\">\n",
       "  <thead>\n",
       "    <tr style=\"text-align: right;\">\n",
       "      <th></th>\n",
       "      <th>QUESTION</th>\n",
       "      <th>ANSWER</th>\n",
       "      <th>MARKS</th>\n",
       "      <th>CRITERIA</th>\n",
       "      <th>Model1_GA</th>\n",
       "      <th>Model2_GA</th>\n",
       "      <th>Model1a_GA</th>\n",
       "      <th>Model2a_GA</th>\n",
       "    </tr>\n",
       "    <tr>\n",
       "      <th>ID</th>\n",
       "      <th></th>\n",
       "      <th></th>\n",
       "      <th></th>\n",
       "      <th></th>\n",
       "      <th></th>\n",
       "      <th></th>\n",
       "      <th></th>\n",
       "      <th></th>\n",
       "    </tr>\n",
       "  </thead>\n",
       "  <tbody>\n",
       "    <tr>\n",
       "      <th>1</th>\n",
       "      <td>Define the term ‘adaptation’</td>\n",
       "      <td>Adaptation are the inherited favourable charac...</td>\n",
       "      <td>1.0</td>\n",
       "      <td>1 mark = correctly definition of adaptation</td>\n",
       "      <td>Sexual reproduction involves the combination o...</td>\n",
       "      <td>Sexual reproduction involves the combination o...</td>\n",
       "      <td>Reproduction ensures the continuity of a speci...</td>\n",
       "      <td>Reproduction ensures the continuity of a speci...</td>\n",
       "    </tr>\n",
       "    <tr>\n",
       "      <th>2</th>\n",
       "      <td>Distinguish between sexual reproduction and as...</td>\n",
       "      <td>Sexual reproduction, such as meiosis, is the p...</td>\n",
       "      <td>4.0</td>\n",
       "      <td>1 mark = Define sexual reproduction\\r\\n\\r\\n1 m...</td>\n",
       "      <td>A somatic cell is any cell in the body that is...</td>\n",
       "      <td>A somatic cell, also known as a body cell or n...</td>\n",
       "      <td>A somatic cell is a body cell that contains tw...</td>\n",
       "      <td>A somatic cell is a type of body cell that mak...</td>\n",
       "    </tr>\n",
       "    <tr>\n",
       "      <th>3</th>\n",
       "      <td>What is the difference between a somatic cell ...</td>\n",
       "      <td>Somatic cells are all the diploid cells in the...</td>\n",
       "      <td>3.0</td>\n",
       "      <td>1 mark = Explains the difference between gamet...</td>\n",
       "      <td>A follicle is typically found in the skin or o...</td>\n",
       "      <td>A follicle is a small, usually rounded or oval...</td>\n",
       "      <td>Unfortunately, the provided documents do not m...</td>\n",
       "      <td>A follicle is not mentioned in the provided te...</td>\n",
       "    </tr>\n",
       "    <tr>\n",
       "      <th>4</th>\n",
       "      <td>Where would you find a follicle and what is it...</td>\n",
       "      <td>A follicle is a group of cells in the ovary th...</td>\n",
       "      <td>2.0</td>\n",
       "      <td>1 mark = Gave the location of the follicle\\r\\n...</td>\n",
       "      <td>The three phases of cell replication within a ...</td>\n",
       "      <td>The three phases of cell replication within a ...</td>\n",
       "      <td>The three phases of cell replication within a ...</td>\n",
       "      <td>The three phases of cell replication within th...</td>\n",
       "    </tr>\n",
       "    <tr>\n",
       "      <th>5</th>\n",
       "      <td>Within a cell cycle, cell replication involves...</td>\n",
       "      <td>The cell cycle involves three phases: interpha...</td>\n",
       "      <td>3.0</td>\n",
       "      <td>1 mark = Gives the first phase: interphase, an...</td>\n",
       "      <td>The two cell division processes are Mitosis an...</td>\n",
       "      <td>The two primary cell division processes are Mi...</td>\n",
       "      <td>The two cell division processes are mitosis an...</td>\n",
       "      <td>Here's a concise response:\\n\\nThe two main cel...</td>\n",
       "    </tr>\n",
       "  </tbody>\n",
       "</table>\n",
       "</div>"
      ],
      "text/plain": [
       "                                             QUESTION  \\\n",
       "ID                                                      \n",
       "1                        Define the term ‘adaptation’   \n",
       "2   Distinguish between sexual reproduction and as...   \n",
       "3   What is the difference between a somatic cell ...   \n",
       "4   Where would you find a follicle and what is it...   \n",
       "5   Within a cell cycle, cell replication involves...   \n",
       "\n",
       "                                               ANSWER  MARKS  \\\n",
       "ID                                                             \n",
       "1   Adaptation are the inherited favourable charac...    1.0   \n",
       "2   Sexual reproduction, such as meiosis, is the p...    4.0   \n",
       "3   Somatic cells are all the diploid cells in the...    3.0   \n",
       "4   A follicle is a group of cells in the ovary th...    2.0   \n",
       "5   The cell cycle involves three phases: interpha...    3.0   \n",
       "\n",
       "                                             CRITERIA  \\\n",
       "ID                                                      \n",
       "1         1 mark = correctly definition of adaptation   \n",
       "2   1 mark = Define sexual reproduction\\r\\n\\r\\n1 m...   \n",
       "3   1 mark = Explains the difference between gamet...   \n",
       "4   1 mark = Gave the location of the follicle\\r\\n...   \n",
       "5   1 mark = Gives the first phase: interphase, an...   \n",
       "\n",
       "                                            Model1_GA  \\\n",
       "ID                                                      \n",
       "1   Sexual reproduction involves the combination o...   \n",
       "2   A somatic cell is any cell in the body that is...   \n",
       "3   A follicle is typically found in the skin or o...   \n",
       "4   The three phases of cell replication within a ...   \n",
       "5   The two cell division processes are Mitosis an...   \n",
       "\n",
       "                                            Model2_GA  \\\n",
       "ID                                                      \n",
       "1   Sexual reproduction involves the combination o...   \n",
       "2   A somatic cell, also known as a body cell or n...   \n",
       "3   A follicle is a small, usually rounded or oval...   \n",
       "4   The three phases of cell replication within a ...   \n",
       "5   The two primary cell division processes are Mi...   \n",
       "\n",
       "                                           Model1a_GA  \\\n",
       "ID                                                      \n",
       "1   Reproduction ensures the continuity of a speci...   \n",
       "2   A somatic cell is a body cell that contains tw...   \n",
       "3   Unfortunately, the provided documents do not m...   \n",
       "4   The three phases of cell replication within a ...   \n",
       "5   The two cell division processes are mitosis an...   \n",
       "\n",
       "                                           Model2a_GA  \n",
       "ID                                                     \n",
       "1   Reproduction ensures the continuity of a speci...  \n",
       "2   A somatic cell is a type of body cell that mak...  \n",
       "3   A follicle is not mentioned in the provided te...  \n",
       "4   The three phases of cell replication within th...  \n",
       "5   Here's a concise response:\\n\\nThe two main cel...  "
      ]
     },
     "execution_count": 34,
     "metadata": {},
     "output_type": "execute_result"
    }
   ],
   "source": [
    "#combine the ground_truth and the generated responses dataframe\n",
    "combined_df = pd.concat([ground_truth_df, generated_df], axis=1)\n",
    "combined_df.index.name = \"ID\"\n",
    "combined_df.head()"
   ]
  },
  {
   "cell_type": "code",
   "execution_count": 35,
   "metadata": {},
   "outputs": [
    {
     "data": {
      "text/html": [
       "<div>\n",
       "<style scoped>\n",
       "    .dataframe tbody tr th:only-of-type {\n",
       "        vertical-align: middle;\n",
       "    }\n",
       "\n",
       "    .dataframe tbody tr th {\n",
       "        vertical-align: top;\n",
       "    }\n",
       "\n",
       "    .dataframe thead th {\n",
       "        text-align: right;\n",
       "    }\n",
       "</style>\n",
       "<table border=\"1\" class=\"dataframe\">\n",
       "  <thead>\n",
       "    <tr style=\"text-align: right;\">\n",
       "      <th></th>\n",
       "      <th>QUESTION</th>\n",
       "      <th>ANSWER</th>\n",
       "      <th>MARKS</th>\n",
       "      <th>CRITERIA</th>\n",
       "      <th>Model1_GA</th>\n",
       "      <th>Model2_GA</th>\n",
       "      <th>Model1a_GA</th>\n",
       "      <th>Model2a_GA</th>\n",
       "    </tr>\n",
       "    <tr>\n",
       "      <th>ID</th>\n",
       "      <th></th>\n",
       "      <th></th>\n",
       "      <th></th>\n",
       "      <th></th>\n",
       "      <th></th>\n",
       "      <th></th>\n",
       "      <th></th>\n",
       "      <th></th>\n",
       "    </tr>\n",
       "  </thead>\n",
       "  <tbody>\n",
       "    <tr>\n",
       "      <th>27</th>\n",
       "      <td>What is the liver's role in homeostasis? Outli...</td>\n",
       "      <td>The liver minimises the greater changes in blo...</td>\n",
       "      <td>2.0</td>\n",
       "      <td>1 mark = defines the function of the liver\\r\\n...</td>\n",
       "      <td>A nutritional disease can result from an imbal...</td>\n",
       "      <td>A nutritional disease is typically caused by a...</td>\n",
       "      <td>A nutritional disease results from poor or exc...</td>\n",
       "      <td>Based on the provided information, a nutrition...</td>\n",
       "    </tr>\n",
       "    <tr>\n",
       "      <th>28</th>\n",
       "      <td>What does a nutritional disease result from?</td>\n",
       "      <td>Nutritional diseases can be caused by a lack o...</td>\n",
       "      <td>1.0</td>\n",
       "      <td>1 mark = correctly identifies what 'nutritiona...</td>\n",
       "      <td>The ear ossicles, also known as the middle ear...</td>\n",
       "      <td>The two main functions of the ear ossicles are...</td>\n",
       "      <td>The ear ossicles (malleus, incus, and stapes) ...</td>\n",
       "      <td>The two main functions of the ear ossicles are...</td>\n",
       "    </tr>\n",
       "    <tr>\n",
       "      <th>29</th>\n",
       "      <td>Describe the two functions of the ear ossicles.</td>\n",
       "      <td>The three ear bones (ossicles) amplify (increa...</td>\n",
       "      <td>2.0</td>\n",
       "      <td>1 mark = defines one function correctly\\r\\n\\r\\...</td>\n",
       "      <td>The two hormones responsible for regulating sa...</td>\n",
       "      <td>The two primary hormones involved in regulatin...</td>\n",
       "      <td>The two hormones responsible for regulating sa...</td>\n",
       "      <td>The two hormones responsible for regulating sa...</td>\n",
       "    </tr>\n",
       "    <tr>\n",
       "      <th>30</th>\n",
       "      <td>Name the two hormones responsible for regulati...</td>\n",
       "      <td>ADH (antidiuretic hormone)—responds to water l...</td>\n",
       "      <td>2.0</td>\n",
       "      <td>1 mark = mentions one correct hormone\\r\\n\\r\\n1...</td>\n",
       "      <td>NaN</td>\n",
       "      <td>NaN</td>\n",
       "      <td>NaN</td>\n",
       "      <td>NaN</td>\n",
       "    </tr>\n",
       "    <tr>\n",
       "      <th>0</th>\n",
       "      <td>NaN</td>\n",
       "      <td>NaN</td>\n",
       "      <td>NaN</td>\n",
       "      <td>NaN</td>\n",
       "      <td>The term \"adaptation\" refers to a trait or beh...</td>\n",
       "      <td>Adaptation refers to the process by which an o...</td>\n",
       "      <td>An adaptation is a characteristic that an orga...</td>\n",
       "      <td>An adaptation is a characteristic that an orga...</td>\n",
       "    </tr>\n",
       "  </tbody>\n",
       "</table>\n",
       "</div>"
      ],
      "text/plain": [
       "                                             QUESTION  \\\n",
       "ID                                                      \n",
       "27  What is the liver's role in homeostasis? Outli...   \n",
       "28       What does a nutritional disease result from?   \n",
       "29    Describe the two functions of the ear ossicles.   \n",
       "30  Name the two hormones responsible for regulati...   \n",
       "0                                                 NaN   \n",
       "\n",
       "                                               ANSWER  MARKS  \\\n",
       "ID                                                             \n",
       "27  The liver minimises the greater changes in blo...    2.0   \n",
       "28  Nutritional diseases can be caused by a lack o...    1.0   \n",
       "29  The three ear bones (ossicles) amplify (increa...    2.0   \n",
       "30  ADH (antidiuretic hormone)—responds to water l...    2.0   \n",
       "0                                                 NaN    NaN   \n",
       "\n",
       "                                             CRITERIA  \\\n",
       "ID                                                      \n",
       "27  1 mark = defines the function of the liver\\r\\n...   \n",
       "28  1 mark = correctly identifies what 'nutritiona...   \n",
       "29  1 mark = defines one function correctly\\r\\n\\r\\...   \n",
       "30  1 mark = mentions one correct hormone\\r\\n\\r\\n1...   \n",
       "0                                                 NaN   \n",
       "\n",
       "                                            Model1_GA  \\\n",
       "ID                                                      \n",
       "27  A nutritional disease can result from an imbal...   \n",
       "28  The ear ossicles, also known as the middle ear...   \n",
       "29  The two hormones responsible for regulating sa...   \n",
       "30                                                NaN   \n",
       "0   The term \"adaptation\" refers to a trait or beh...   \n",
       "\n",
       "                                            Model2_GA  \\\n",
       "ID                                                      \n",
       "27  A nutritional disease is typically caused by a...   \n",
       "28  The two main functions of the ear ossicles are...   \n",
       "29  The two primary hormones involved in regulatin...   \n",
       "30                                                NaN   \n",
       "0   Adaptation refers to the process by which an o...   \n",
       "\n",
       "                                           Model1a_GA  \\\n",
       "ID                                                      \n",
       "27  A nutritional disease results from poor or exc...   \n",
       "28  The ear ossicles (malleus, incus, and stapes) ...   \n",
       "29  The two hormones responsible for regulating sa...   \n",
       "30                                                NaN   \n",
       "0   An adaptation is a characteristic that an orga...   \n",
       "\n",
       "                                           Model2a_GA  \n",
       "ID                                                     \n",
       "27  Based on the provided information, a nutrition...  \n",
       "28  The two main functions of the ear ossicles are...  \n",
       "29  The two hormones responsible for regulating sa...  \n",
       "30                                                NaN  \n",
       "0   An adaptation is a characteristic that an orga...  "
      ]
     },
     "execution_count": 35,
     "metadata": {},
     "output_type": "execute_result"
    }
   ],
   "source": [
    "combined_df.tail()"
   ]
  },
  {
   "cell_type": "code",
   "execution_count": 36,
   "metadata": {},
   "outputs": [],
   "source": [
    "#export the dataframe to a csv file\n",
    "combined_df.to_csv(\"combined_df.csv\")"
   ]
  },
  {
   "cell_type": "code",
   "execution_count": null,
   "metadata": {},
   "outputs": [],
   "source": []
  }
 ],
 "metadata": {
  "kernelspec": {
   "display_name": "hsc-llm",
   "language": "python",
   "name": "python3"
  },
  "language_info": {
   "codemirror_mode": {
    "name": "ipython",
    "version": 3
   },
   "file_extension": ".py",
   "mimetype": "text/x-python",
   "name": "python",
   "nbconvert_exporter": "python",
   "pygments_lexer": "ipython3",
   "version": "3.9.20"
  }
 },
 "nbformat": 4,
 "nbformat_minor": 4
}
