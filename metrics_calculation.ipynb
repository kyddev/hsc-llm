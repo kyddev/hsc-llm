{
 "cells": [
  {
   "cell_type": "markdown",
   "metadata": {},
   "source": [
    "# METRICS CALCULATION FILE"
   ]
  },
  {
   "cell_type": "code",
   "execution_count": 23,
   "metadata": {},
   "outputs": [],
   "source": [
    "\n",
    "import os \n",
    "import tempfile\n",
    "\n",
    "import chromadb\n",
    "import streamlit as st\n",
    "import pandas as pd\n",
    "\n",
    "from langchain_chroma import Chroma\n",
    "from pypdf import PdfReader\n",
    "from langchain_core.documents import Document\n",
    "from langchain_text_splitters import RecursiveCharacterTextSplitter\n",
    "from sentence_transformers import CrossEncoder\n",
    "from streamlit.runtime.uploaded_file_manager import UploadedFile\n",
    "from langchain_community.chat_models import ChatOllama\n",
    "from langchain_core.prompts import ChatPromptTemplate\n",
    "from langchain_core.messages import HumanMessage, AIMessage\n",
    "from langchain_ollama import OllamaEmbeddings\n",
    "from langchain_core.output_parsers import StrOutputParser\n",
    "\n",
    "from bert_score import BERTScorer\n",
    "from nltk.translate.meteor_score import meteor_score, single_meteor_score\n"
   ]
  },
  {
   "cell_type": "markdown",
   "metadata": {},
   "source": [
    "## Preparing the input text generation file"
   ]
  },
  {
   "cell_type": "code",
   "execution_count": 2,
   "metadata": {},
   "outputs": [],
   "source": [
    "#read the generated file in\n",
    "combined_df = pd.read_csv('combined_df.csv')"
   ]
  },
  {
   "cell_type": "code",
   "execution_count": null,
   "metadata": {},
   "outputs": [],
   "source": [
    "combined_df.set_index('ID',  inplace=True)"
   ]
  },
  {
   "cell_type": "code",
   "execution_count": 7,
   "metadata": {},
   "outputs": [
    {
     "data": {
      "text/html": [
       "<div>\n",
       "<style scoped>\n",
       "    .dataframe tbody tr th:only-of-type {\n",
       "        vertical-align: middle;\n",
       "    }\n",
       "\n",
       "    .dataframe tbody tr th {\n",
       "        vertical-align: top;\n",
       "    }\n",
       "\n",
       "    .dataframe thead th {\n",
       "        text-align: right;\n",
       "    }\n",
       "</style>\n",
       "<table border=\"1\" class=\"dataframe\">\n",
       "  <thead>\n",
       "    <tr style=\"text-align: right;\">\n",
       "      <th></th>\n",
       "      <th>QUESTION</th>\n",
       "      <th>ANSWER</th>\n",
       "      <th>Model1_GA</th>\n",
       "      <th>Model2_GA</th>\n",
       "      <th>Model1a_GA</th>\n",
       "      <th>Model2a_GA</th>\n",
       "    </tr>\n",
       "    <tr>\n",
       "      <th>ID</th>\n",
       "      <th></th>\n",
       "      <th></th>\n",
       "      <th></th>\n",
       "      <th></th>\n",
       "      <th></th>\n",
       "      <th></th>\n",
       "    </tr>\n",
       "  </thead>\n",
       "  <tbody>\n",
       "    <tr>\n",
       "      <th>1</th>\n",
       "      <td>Define 'asexual reproduction'</td>\n",
       "      <td>Asexual reproduction is a type of reproductive...</td>\n",
       "      <td>Asexual reproduction is a type of reproduction...</td>\n",
       "      <td>Asexual reproduction is a type of reproduction...</td>\n",
       "      <td>Asexual reproduction is a type of reproduction...</td>\n",
       "      <td>Asexual reproduction is a type of reproduction...</td>\n",
       "    </tr>\n",
       "    <tr>\n",
       "      <th>2</th>\n",
       "      <td>Identify the sort of cell division that is inv...</td>\n",
       "      <td>The cell division in asexual reproduction is m...</td>\n",
       "      <td>Mitosis is the type of cell division involved ...</td>\n",
       "      <td>The type of cell division involved in asexual ...</td>\n",
       "      <td>Asexual reproduction involves mitosis, which r...</td>\n",
       "      <td>The process involved in asexual reproduction, ...</td>\n",
       "    </tr>\n",
       "    <tr>\n",
       "      <th>3</th>\n",
       "      <td>Outline the ideal environmental conditions for...</td>\n",
       "      <td>Stable and uniform environments with a good su...</td>\n",
       "      <td>The ideal environmental conditions for asexual...</td>\n",
       "      <td>Asexual reproduction is a process where an org...</td>\n",
       "      <td>Asexual reproduction occurs optimally in water...</td>\n",
       "      <td>Asexual reproduction can occur via several met...</td>\n",
       "    </tr>\n",
       "    <tr>\n",
       "      <th>4</th>\n",
       "      <td>List the key events in binary fission for bact...</td>\n",
       "      <td>The key events that happen in binary fission f...</td>\n",
       "      <td>Binary fission involves the following key even...</td>\n",
       "      <td>Binary fission is a process by which bacterial...</td>\n",
       "      <td>The key events in binary fission for bacteria ...</td>\n",
       "      <td>Binary fission is a process where bacteria rep...</td>\n",
       "    </tr>\n",
       "    <tr>\n",
       "      <th>5</th>\n",
       "      <td>What is the difference between a somatic cell ...</td>\n",
       "      <td>Somatic cells are all the diploid cells in the...</td>\n",
       "      <td>A somatic cell is any cell in the body that is...</td>\n",
       "      <td>A somatic cell, also known as a body cell or n...</td>\n",
       "      <td>A somatic cell is a diploid cell that contains...</td>\n",
       "      <td>A somatic cell is a non-reproductive body cell...</td>\n",
       "    </tr>\n",
       "    <tr>\n",
       "      <th>...</th>\n",
       "      <td>...</td>\n",
       "      <td>...</td>\n",
       "      <td>...</td>\n",
       "      <td>...</td>\n",
       "      <td>...</td>\n",
       "      <td>...</td>\n",
       "    </tr>\n",
       "    <tr>\n",
       "      <th>158</th>\n",
       "      <td>Explain how the eye detects different colours.</td>\n",
       "      <td>There are three types of cone cells, each with...</td>\n",
       "      <td>The human eye contains specialized cells calle...</td>\n",
       "      <td>The eye detects different colors through a pro...</td>\n",
       "      <td>The eye detects different colors through the c...</td>\n",
       "      <td>The eye detects different colours by a combina...</td>\n",
       "    </tr>\n",
       "    <tr>\n",
       "      <th>159</th>\n",
       "      <td>Discuss the value of having binocular vision.</td>\n",
       "      <td>Binocular vision requires two eyes quite close...</td>\n",
       "      <td>Having binocular vision allows for depth perce...</td>\n",
       "      <td>Having binocular vision refers to the ability ...</td>\n",
       "      <td>Binocular vision, which involves both eyes wor...</td>\n",
       "      <td>Having binocular vision, which involves using ...</td>\n",
       "    </tr>\n",
       "    <tr>\n",
       "      <th>160</th>\n",
       "      <td>Arrange the following structures of the excret...</td>\n",
       "      <td>The largest is kidney, then nephron, glomerulu...</td>\n",
       "      <td>The correct arrangement is: kidney, nephron, g...</td>\n",
       "      <td>The correct arrangement from largest to smalle...</td>\n",
       "      <td>Here is the arrangement of the structures from...</td>\n",
       "      <td>Here are the structures arranged in order from...</td>\n",
       "    </tr>\n",
       "    <tr>\n",
       "      <th>161</th>\n",
       "      <td>Name the two hormones responsible for regulati...</td>\n",
       "      <td>ADH (antidiuretic hormone)—responds to water l...</td>\n",
       "      <td>The two hormones responsible for regulating sa...</td>\n",
       "      <td>The two primary hormones involved in regulatin...</td>\n",
       "      <td>The two hormones responsible for regulating sa...</td>\n",
       "      <td>The two hormones responsible for regulating sa...</td>\n",
       "    </tr>\n",
       "    <tr>\n",
       "      <th>162</th>\n",
       "      <td>Describe two examples of a kidney disorder</td>\n",
       "      <td>An example answer is: Nephrosclerosis—nephrosc...</td>\n",
       "      <td>Chronic Kidney Disease (CKD) is a condition wh...</td>\n",
       "      <td>Here are two examples of kidney disorders:\\n\\n...</td>\n",
       "      <td>Two examples of kidney disorders are Glomerulo...</td>\n",
       "      <td>Here are two examples of kidney disorders:\\n\\n...</td>\n",
       "    </tr>\n",
       "  </tbody>\n",
       "</table>\n",
       "<p>162 rows × 6 columns</p>\n",
       "</div>"
      ],
      "text/plain": [
       "                                              QUESTION  ...                                         Model2a_GA\n",
       "ID                                                      ...                                                   \n",
       "1                        Define 'asexual reproduction'  ...  Asexual reproduction is a type of reproduction...\n",
       "2    Identify the sort of cell division that is inv...  ...  The process involved in asexual reproduction, ...\n",
       "3    Outline the ideal environmental conditions for...  ...  Asexual reproduction can occur via several met...\n",
       "4    List the key events in binary fission for bact...  ...  Binary fission is a process where bacteria rep...\n",
       "5    What is the difference between a somatic cell ...  ...  A somatic cell is a non-reproductive body cell...\n",
       "..                                                 ...  ...                                                ...\n",
       "158     Explain how the eye detects different colours.  ...  The eye detects different colours by a combina...\n",
       "159      Discuss the value of having binocular vision.  ...  Having binocular vision, which involves using ...\n",
       "160  Arrange the following structures of the excret...  ...  Here are the structures arranged in order from...\n",
       "161  Name the two hormones responsible for regulati...  ...  The two hormones responsible for regulating sa...\n",
       "162         Describe two examples of a kidney disorder  ...  Here are two examples of kidney disorders:\\n\\n...\n",
       "\n",
       "[162 rows x 6 columns]"
      ]
     },
     "execution_count": 7,
     "metadata": {},
     "output_type": "execute_result"
    }
   ],
   "source": [
    "combined_df"
   ]
  },
  {
   "cell_type": "code",
   "execution_count": 8,
   "metadata": {},
   "outputs": [],
   "source": [
    "#turn reference QA into list to be iterable\n",
    "questions = combined_df['QUESTION'].values.tolist()\n",
    "reference_answers = combined_df['ANSWER'].values.tolist()"
   ]
  },
  {
   "cell_type": "code",
   "execution_count": 9,
   "metadata": {},
   "outputs": [],
   "source": [
    "#turn generated QA into list to be iterable\n",
    "model1_answers = combined_df['Model1_GA'].values.tolist()\n",
    "model2_answers = combined_df['Model2_GA'].values.tolist()\n",
    "model1a_answers = combined_df['Model1a_GA'].values.tolist()\n",
    "model2a_answers = combined_df['Model2a_GA'].values.tolist()"
   ]
  },
  {
   "cell_type": "markdown",
   "metadata": {},
   "source": [
    "## Compute the BertScore"
   ]
  },
  {
   "cell_type": "code",
   "execution_count": 10,
   "metadata": {},
   "outputs": [],
   "source": [
    "scorer = BERTScorer(model_type='bert-base-uncased')"
   ]
  },
  {
   "cell_type": "markdown",
   "metadata": {},
   "source": [
    "Bertscore for Model 1"
   ]
  },
  {
   "cell_type": "code",
   "execution_count": 11,
   "metadata": {},
   "outputs": [],
   "source": [
    "m1_precision = []\n",
    "m1_recall = []\n",
    "m1_f1 = []\n",
    "for x in range(len(model1_answers)):\n",
    "    P, R, F1 = scorer.score([model1_answers[x]], [reference_answers[x]])\n",
    "    m1_precision.append(P.item())\n",
    "    m1_recall.append(R.item())   \n",
    "    m1_f1.append(F1.item())\n",
    "\n",
    "m1_precision = [round(p, 3) for p in m1_precision]\n",
    "m1_recall = [round(r, 3) for r in m1_recall]\n",
    "m1_f1 = [round(f, 3) for f in m1_f1]"
   ]
  },
  {
   "cell_type": "markdown",
   "metadata": {},
   "source": [
    "Bertscore for Model 2"
   ]
  },
  {
   "cell_type": "code",
   "execution_count": 12,
   "metadata": {},
   "outputs": [],
   "source": [
    "m2_precision = []\n",
    "m2_recall = []\n",
    "m2_f1 = []\n",
    "for x in range(len(model2_answers)):\n",
    "    P, R, F1 = scorer.score([model2_answers[x]], [reference_answers[x]])\n",
    "    m2_precision.append(P.item())\n",
    "    m2_recall.append(R.item())   \n",
    "    m2_f1.append(F1.item())\n",
    "\n",
    "m2_precision = [round(p, 3) for p in m2_precision]\n",
    "m2_recall = [round(r, 3) for r in m2_recall]\n",
    "m2_f1 = [round(f, 3) for f in m2_f1]"
   ]
  },
  {
   "cell_type": "markdown",
   "metadata": {},
   "source": [
    "Bertscore for Model 1a"
   ]
  },
  {
   "cell_type": "code",
   "execution_count": 13,
   "metadata": {},
   "outputs": [],
   "source": [
    "m1a_precision = []\n",
    "m1a_recall = []\n",
    "m1a_f1 = []\n",
    "for x in range(len(model1a_answers)):\n",
    "    P, R, F1 = scorer.score([model1a_answers[x]], [reference_answers[x]])\n",
    "    m1a_precision.append(P.item())\n",
    "    m1a_recall.append(R.item())   \n",
    "    m1a_f1.append(F1.item())\n",
    "\n",
    "m1a_precision = [round(p, 3) for p in m1a_precision]\n",
    "m1a_recall = [round(r, 3) for r in m1a_recall]\n",
    "m1a_f1 = [round(f, 3) for f in m1a_f1]\n"
   ]
  },
  {
   "cell_type": "markdown",
   "metadata": {},
   "source": [
    "Bertscore for Model 2a"
   ]
  },
  {
   "cell_type": "code",
   "execution_count": 14,
   "metadata": {},
   "outputs": [],
   "source": [
    "m2a_precision = []\n",
    "m2a_recall = []\n",
    "m2a_f1 = []\n",
    "for x in range(len(model2a_answers)):\n",
    "    P, R, F1 = scorer.score([model2a_answers[x]], [reference_answers[x]])\n",
    "    m2a_precision.append(P.item())\n",
    "    m2a_recall.append(R.item())   \n",
    "    m2a_f1.append(F1.item())\n",
    "\n",
    "m2a_precision = [round(p, 3) for p in m2a_precision]\n",
    "m2a_recall = [round(r, 3) for r in m2a_recall]\n",
    "m2a_f1 = [round(f, 3) for f in m2a_f1]\n"
   ]
  },
  {
   "cell_type": "markdown",
   "metadata": {},
   "source": [
    "### Put into CSV"
   ]
  },
  {
   "cell_type": "code",
   "execution_count": 15,
   "metadata": {},
   "outputs": [],
   "source": [
    "#create index\n",
    "index_list = []\n",
    "for i in range(1, len(questions)+1):\n",
    "    index_list.append(i)"
   ]
  },
  {
   "cell_type": "code",
   "execution_count": 16,
   "metadata": {},
   "outputs": [],
   "source": [
    "bert_results_df = pd.DataFrame({\n",
    "    'ID': index_list,\n",
    "    'BS M1 Precision': m1_precision,\n",
    "    'BS M1 Recall': m1_recall,\n",
    "    'BS M1 F1': m1_f1,\n",
    "    'BS M2 Precision': m2_precision,\n",
    "    'BS M2 Recall': m2_recall,\n",
    "    'BS M2 F1': m2_f1,\n",
    "    'BS M1a Precision': m1a_precision,\n",
    "    'BS M1a Recall': m1a_recall,\n",
    "    'BS M1a F1': m1a_f1,\n",
    "    'BS M2a Precision': m2a_precision,\n",
    "    'BS M2a Recall': m2a_recall,\n",
    "    'BS M2a F1': m2a_f1\n",
    "})\n",
    "\n",
    "bert_results_df.set_index('ID', inplace=True)"
   ]
  },
  {
   "cell_type": "code",
   "execution_count": 17,
   "metadata": {},
   "outputs": [
    {
     "data": {
      "text/html": [
       "<div>\n",
       "<style scoped>\n",
       "    .dataframe tbody tr th:only-of-type {\n",
       "        vertical-align: middle;\n",
       "    }\n",
       "\n",
       "    .dataframe tbody tr th {\n",
       "        vertical-align: top;\n",
       "    }\n",
       "\n",
       "    .dataframe thead th {\n",
       "        text-align: right;\n",
       "    }\n",
       "</style>\n",
       "<table border=\"1\" class=\"dataframe\">\n",
       "  <thead>\n",
       "    <tr style=\"text-align: right;\">\n",
       "      <th></th>\n",
       "      <th>BS M1 Precision</th>\n",
       "      <th>BS M1 Recall</th>\n",
       "      <th>BS M1 F1</th>\n",
       "      <th>BS M2 Precision</th>\n",
       "      <th>BS M2 Recall</th>\n",
       "      <th>BS M2 F1</th>\n",
       "      <th>BS M1a Precision</th>\n",
       "      <th>BS M1a Recall</th>\n",
       "      <th>BS M1a F1</th>\n",
       "      <th>BS M2a Precision</th>\n",
       "      <th>BS M2a Recall</th>\n",
       "      <th>BS M2a F1</th>\n",
       "    </tr>\n",
       "    <tr>\n",
       "      <th>ID</th>\n",
       "      <th></th>\n",
       "      <th></th>\n",
       "      <th></th>\n",
       "      <th></th>\n",
       "      <th></th>\n",
       "      <th></th>\n",
       "      <th></th>\n",
       "      <th></th>\n",
       "      <th></th>\n",
       "      <th></th>\n",
       "      <th></th>\n",
       "      <th></th>\n",
       "    </tr>\n",
       "  </thead>\n",
       "  <tbody>\n",
       "    <tr>\n",
       "      <th>1</th>\n",
       "      <td>0.610</td>\n",
       "      <td>0.739</td>\n",
       "      <td>0.668</td>\n",
       "      <td>0.586</td>\n",
       "      <td>0.678</td>\n",
       "      <td>0.629</td>\n",
       "      <td>0.668</td>\n",
       "      <td>0.741</td>\n",
       "      <td>0.702</td>\n",
       "      <td>0.652</td>\n",
       "      <td>0.725</td>\n",
       "      <td>0.687</td>\n",
       "    </tr>\n",
       "    <tr>\n",
       "      <th>2</th>\n",
       "      <td>0.571</td>\n",
       "      <td>0.723</td>\n",
       "      <td>0.638</td>\n",
       "      <td>0.597</td>\n",
       "      <td>0.758</td>\n",
       "      <td>0.668</td>\n",
       "      <td>0.559</td>\n",
       "      <td>0.723</td>\n",
       "      <td>0.630</td>\n",
       "      <td>0.597</td>\n",
       "      <td>0.767</td>\n",
       "      <td>0.671</td>\n",
       "    </tr>\n",
       "    <tr>\n",
       "      <th>3</th>\n",
       "      <td>0.594</td>\n",
       "      <td>0.656</td>\n",
       "      <td>0.624</td>\n",
       "      <td>0.544</td>\n",
       "      <td>0.644</td>\n",
       "      <td>0.590</td>\n",
       "      <td>0.638</td>\n",
       "      <td>0.631</td>\n",
       "      <td>0.634</td>\n",
       "      <td>0.561</td>\n",
       "      <td>0.660</td>\n",
       "      <td>0.606</td>\n",
       "    </tr>\n",
       "    <tr>\n",
       "      <th>4</th>\n",
       "      <td>0.662</td>\n",
       "      <td>0.679</td>\n",
       "      <td>0.670</td>\n",
       "      <td>0.571</td>\n",
       "      <td>0.666</td>\n",
       "      <td>0.615</td>\n",
       "      <td>0.732</td>\n",
       "      <td>0.618</td>\n",
       "      <td>0.670</td>\n",
       "      <td>0.599</td>\n",
       "      <td>0.541</td>\n",
       "      <td>0.569</td>\n",
       "    </tr>\n",
       "    <tr>\n",
       "      <th>5</th>\n",
       "      <td>0.660</td>\n",
       "      <td>0.707</td>\n",
       "      <td>0.683</td>\n",
       "      <td>0.585</td>\n",
       "      <td>0.662</td>\n",
       "      <td>0.621</td>\n",
       "      <td>0.683</td>\n",
       "      <td>0.652</td>\n",
       "      <td>0.667</td>\n",
       "      <td>0.659</td>\n",
       "      <td>0.693</td>\n",
       "      <td>0.675</td>\n",
       "    </tr>\n",
       "    <tr>\n",
       "      <th>...</th>\n",
       "      <td>...</td>\n",
       "      <td>...</td>\n",
       "      <td>...</td>\n",
       "      <td>...</td>\n",
       "      <td>...</td>\n",
       "      <td>...</td>\n",
       "      <td>...</td>\n",
       "      <td>...</td>\n",
       "      <td>...</td>\n",
       "      <td>...</td>\n",
       "      <td>...</td>\n",
       "      <td>...</td>\n",
       "    </tr>\n",
       "    <tr>\n",
       "      <th>158</th>\n",
       "      <td>0.655</td>\n",
       "      <td>0.678</td>\n",
       "      <td>0.666</td>\n",
       "      <td>0.602</td>\n",
       "      <td>0.655</td>\n",
       "      <td>0.627</td>\n",
       "      <td>0.626</td>\n",
       "      <td>0.678</td>\n",
       "      <td>0.651</td>\n",
       "      <td>0.632</td>\n",
       "      <td>0.673</td>\n",
       "      <td>0.652</td>\n",
       "    </tr>\n",
       "    <tr>\n",
       "      <th>159</th>\n",
       "      <td>0.665</td>\n",
       "      <td>0.576</td>\n",
       "      <td>0.617</td>\n",
       "      <td>0.604</td>\n",
       "      <td>0.566</td>\n",
       "      <td>0.584</td>\n",
       "      <td>0.656</td>\n",
       "      <td>0.574</td>\n",
       "      <td>0.612</td>\n",
       "      <td>0.622</td>\n",
       "      <td>0.564</td>\n",
       "      <td>0.591</td>\n",
       "    </tr>\n",
       "    <tr>\n",
       "      <th>160</th>\n",
       "      <td>0.555</td>\n",
       "      <td>0.740</td>\n",
       "      <td>0.634</td>\n",
       "      <td>0.524</td>\n",
       "      <td>0.686</td>\n",
       "      <td>0.594</td>\n",
       "      <td>0.673</td>\n",
       "      <td>0.814</td>\n",
       "      <td>0.737</td>\n",
       "      <td>0.584</td>\n",
       "      <td>0.712</td>\n",
       "      <td>0.642</td>\n",
       "    </tr>\n",
       "    <tr>\n",
       "      <th>161</th>\n",
       "      <td>0.532</td>\n",
       "      <td>0.736</td>\n",
       "      <td>0.617</td>\n",
       "      <td>0.474</td>\n",
       "      <td>0.690</td>\n",
       "      <td>0.562</td>\n",
       "      <td>0.617</td>\n",
       "      <td>0.740</td>\n",
       "      <td>0.673</td>\n",
       "      <td>0.499</td>\n",
       "      <td>0.716</td>\n",
       "      <td>0.588</td>\n",
       "    </tr>\n",
       "    <tr>\n",
       "      <th>162</th>\n",
       "      <td>0.658</td>\n",
       "      <td>0.576</td>\n",
       "      <td>0.614</td>\n",
       "      <td>0.640</td>\n",
       "      <td>0.636</td>\n",
       "      <td>0.638</td>\n",
       "      <td>0.742</td>\n",
       "      <td>0.611</td>\n",
       "      <td>0.670</td>\n",
       "      <td>0.688</td>\n",
       "      <td>0.622</td>\n",
       "      <td>0.653</td>\n",
       "    </tr>\n",
       "  </tbody>\n",
       "</table>\n",
       "<p>162 rows × 12 columns</p>\n",
       "</div>"
      ],
      "text/plain": [
       "     BS M1 Precision  BS M1 Recall  ...  BS M2a Recall  BS M2a F1\n",
       "ID                                  ...                          \n",
       "1              0.610         0.739  ...          0.725      0.687\n",
       "2              0.571         0.723  ...          0.767      0.671\n",
       "3              0.594         0.656  ...          0.660      0.606\n",
       "4              0.662         0.679  ...          0.541      0.569\n",
       "5              0.660         0.707  ...          0.693      0.675\n",
       "..               ...           ...  ...            ...        ...\n",
       "158            0.655         0.678  ...          0.673      0.652\n",
       "159            0.665         0.576  ...          0.564      0.591\n",
       "160            0.555         0.740  ...          0.712      0.642\n",
       "161            0.532         0.736  ...          0.716      0.588\n",
       "162            0.658         0.576  ...          0.622      0.653\n",
       "\n",
       "[162 rows x 12 columns]"
      ]
     },
     "execution_count": 17,
     "metadata": {},
     "output_type": "execute_result"
    }
   ],
   "source": [
    "bert_results_df"
   ]
  },
  {
   "cell_type": "code",
   "execution_count": 18,
   "metadata": {},
   "outputs": [],
   "source": [
    "#export bert results to csv\n",
    "bert_results_df.to_csv('bert_results_df.csv')"
   ]
  },
  {
   "cell_type": "markdown",
   "metadata": {},
   "source": [
    "## Computer METEOR score"
   ]
  },
  {
   "cell_type": "markdown",
   "metadata": {},
   "source": [
    "METEOR for Model 1"
   ]
  },
  {
   "cell_type": "code",
   "execution_count": 21,
   "metadata": {},
   "outputs": [
    {
     "data": {
      "text/plain": [
       "str"
      ]
     },
     "execution_count": 21,
     "metadata": {},
     "output_type": "execute_result"
    }
   ],
   "source": [
    "type(reference_answers[1])"
   ]
  },
  {
   "cell_type": "code",
   "execution_count": 29,
   "metadata": {},
   "outputs": [
    {
     "ename": "LookupError",
     "evalue": "\n**********************************************************************\n  Resource \u001b[93mwordnet\u001b[0m not found.\n  Please use the NLTK Downloader to obtain the resource:\n\n  \u001b[31m>>> import nltk\n  >>> nltk.download('wordnet')\n  \u001b[0m\n  For more information see: https://www.nltk.org/data.html\n\n  Attempted to load \u001b[93mcorpora/wordnet\u001b[0m\n\n  Searched in:\n    - 'C:\\\\Users\\\\KD/nltk_data'\n    - 'c:\\\\Users\\\\KD\\\\miniconda3\\\\envs\\\\hsc-llm\\\\nltk_data'\n    - 'c:\\\\Users\\\\KD\\\\miniconda3\\\\envs\\\\hsc-llm\\\\share\\\\nltk_data'\n    - 'c:\\\\Users\\\\KD\\\\miniconda3\\\\envs\\\\hsc-llm\\\\lib\\\\nltk_data'\n    - 'C:\\\\Users\\\\KD\\\\AppData\\\\Roaming\\\\nltk_data'\n    - 'C:\\\\nltk_data'\n    - 'D:\\\\nltk_data'\n    - 'E:\\\\nltk_data'\n**********************************************************************\n",
     "output_type": "error",
     "traceback": [
      "\u001b[1;31m---------------------------------------------------------------------------\u001b[0m",
      "\u001b[1;31mLookupError\u001b[0m                               Traceback (most recent call last)",
      "File \u001b[1;32mc:\\Users\\KD\\miniconda3\\envs\\hsc-llm\\lib\\site-packages\\nltk\\corpus\\util.py:84\u001b[0m, in \u001b[0;36mLazyCorpusLoader.__load\u001b[1;34m(self)\u001b[0m\n\u001b[0;32m     83\u001b[0m \u001b[38;5;28;01mtry\u001b[39;00m:\n\u001b[1;32m---> 84\u001b[0m     root \u001b[38;5;241m=\u001b[39m \u001b[43mnltk\u001b[49m\u001b[38;5;241;43m.\u001b[39;49m\u001b[43mdata\u001b[49m\u001b[38;5;241;43m.\u001b[39;49m\u001b[43mfind\u001b[49m\u001b[43m(\u001b[49m\u001b[38;5;124;43mf\u001b[39;49m\u001b[38;5;124;43m\"\u001b[39;49m\u001b[38;5;132;43;01m{\u001b[39;49;00m\u001b[38;5;28;43mself\u001b[39;49m\u001b[38;5;241;43m.\u001b[39;49m\u001b[43msubdir\u001b[49m\u001b[38;5;132;43;01m}\u001b[39;49;00m\u001b[38;5;124;43m/\u001b[39;49m\u001b[38;5;132;43;01m{\u001b[39;49;00m\u001b[43mzip_name\u001b[49m\u001b[38;5;132;43;01m}\u001b[39;49;00m\u001b[38;5;124;43m\"\u001b[39;49m\u001b[43m)\u001b[49m\n\u001b[0;32m     85\u001b[0m \u001b[38;5;28;01mexcept\u001b[39;00m \u001b[38;5;167;01mLookupError\u001b[39;00m:\n",
      "File \u001b[1;32mc:\\Users\\KD\\miniconda3\\envs\\hsc-llm\\lib\\site-packages\\nltk\\data.py:579\u001b[0m, in \u001b[0;36mfind\u001b[1;34m(resource_name, paths)\u001b[0m\n\u001b[0;32m    578\u001b[0m resource_not_found \u001b[38;5;241m=\u001b[39m \u001b[38;5;124mf\u001b[39m\u001b[38;5;124m\"\u001b[39m\u001b[38;5;130;01m\\n\u001b[39;00m\u001b[38;5;132;01m{\u001b[39;00msep\u001b[38;5;132;01m}\u001b[39;00m\u001b[38;5;130;01m\\n\u001b[39;00m\u001b[38;5;132;01m{\u001b[39;00mmsg\u001b[38;5;132;01m}\u001b[39;00m\u001b[38;5;130;01m\\n\u001b[39;00m\u001b[38;5;132;01m{\u001b[39;00msep\u001b[38;5;132;01m}\u001b[39;00m\u001b[38;5;130;01m\\n\u001b[39;00m\u001b[38;5;124m\"\u001b[39m\n\u001b[1;32m--> 579\u001b[0m \u001b[38;5;28;01mraise\u001b[39;00m \u001b[38;5;167;01mLookupError\u001b[39;00m(resource_not_found)\n",
      "\u001b[1;31mLookupError\u001b[0m: \n**********************************************************************\n  Resource \u001b[93mwordnet\u001b[0m not found.\n  Please use the NLTK Downloader to obtain the resource:\n\n  \u001b[31m>>> import nltk\n  >>> nltk.download('wordnet')\n  \u001b[0m\n  For more information see: https://www.nltk.org/data.html\n\n  Attempted to load \u001b[93mcorpora/wordnet.zip/wordnet/\u001b[0m\n\n  Searched in:\n    - 'C:\\\\Users\\\\KD/nltk_data'\n    - 'c:\\\\Users\\\\KD\\\\miniconda3\\\\envs\\\\hsc-llm\\\\nltk_data'\n    - 'c:\\\\Users\\\\KD\\\\miniconda3\\\\envs\\\\hsc-llm\\\\share\\\\nltk_data'\n    - 'c:\\\\Users\\\\KD\\\\miniconda3\\\\envs\\\\hsc-llm\\\\lib\\\\nltk_data'\n    - 'C:\\\\Users\\\\KD\\\\AppData\\\\Roaming\\\\nltk_data'\n    - 'C:\\\\nltk_data'\n    - 'D:\\\\nltk_data'\n    - 'E:\\\\nltk_data'\n**********************************************************************\n",
      "\nDuring handling of the above exception, another exception occurred:\n",
      "\u001b[1;31mLookupError\u001b[0m                               Traceback (most recent call last)",
      "Cell \u001b[1;32mIn[29], line 4\u001b[0m\n\u001b[0;32m      1\u001b[0m reference \u001b[38;5;241m=\u001b[39m reference_answers[\u001b[38;5;241m1\u001b[39m]\u001b[38;5;241m.\u001b[39msplit()\n\u001b[0;32m      2\u001b[0m hyptothesis \u001b[38;5;241m=\u001b[39m model1_answers[\u001b[38;5;241m1\u001b[39m]\u001b[38;5;241m.\u001b[39msplit()\n\u001b[1;32m----> 4\u001b[0m score \u001b[38;5;241m=\u001b[39m \u001b[43mmeteor_score\u001b[49m\u001b[43m(\u001b[49m\u001b[43m[\u001b[49m\u001b[43mreference\u001b[49m\u001b[43m]\u001b[49m\u001b[43m,\u001b[49m\u001b[43m \u001b[49m\u001b[43mhyptothesis\u001b[49m\u001b[43m)\u001b[49m\n\u001b[0;32m      5\u001b[0m \u001b[38;5;28mprint\u001b[39m(score)\n",
      "File \u001b[1;32mc:\\Users\\KD\\miniconda3\\envs\\hsc-llm\\lib\\site-packages\\nltk\\translate\\meteor_score.py:397\u001b[0m, in \u001b[0;36mmeteor_score\u001b[1;34m(references, hypothesis, preprocess, stemmer, wordnet, alpha, beta, gamma)\u001b[0m\n\u001b[0;32m    347\u001b[0m \u001b[38;5;28;01mdef\u001b[39;00m \u001b[38;5;21mmeteor_score\u001b[39m(\n\u001b[0;32m    348\u001b[0m     references: Iterable[Iterable[\u001b[38;5;28mstr\u001b[39m]],\n\u001b[0;32m    349\u001b[0m     hypothesis: Iterable[\u001b[38;5;28mstr\u001b[39m],\n\u001b[1;32m   (...)\u001b[0m\n\u001b[0;32m    355\u001b[0m     gamma: \u001b[38;5;28mfloat\u001b[39m \u001b[38;5;241m=\u001b[39m \u001b[38;5;241m0.5\u001b[39m,\n\u001b[0;32m    356\u001b[0m ) \u001b[38;5;241m-\u001b[39m\u001b[38;5;241m>\u001b[39m \u001b[38;5;28mfloat\u001b[39m:\n\u001b[0;32m    357\u001b[0m \u001b[38;5;250m    \u001b[39m\u001b[38;5;124;03m\"\"\"\u001b[39;00m\n\u001b[0;32m    358\u001b[0m \u001b[38;5;124;03m    Calculates METEOR score for hypothesis with multiple references as\u001b[39;00m\n\u001b[0;32m    359\u001b[0m \u001b[38;5;124;03m    described in \"Meteor: An Automatic Metric for MT Evaluation with\u001b[39;00m\n\u001b[1;32m   (...)\u001b[0m\n\u001b[0;32m    395\u001b[0m \u001b[38;5;124;03m    :return: The sentence-level METEOR score.\u001b[39;00m\n\u001b[0;32m    396\u001b[0m \u001b[38;5;124;03m    \"\"\"\u001b[39;00m\n\u001b[1;32m--> 397\u001b[0m     \u001b[38;5;28;01mreturn\u001b[39;00m \u001b[38;5;28;43mmax\u001b[39;49m\u001b[43m(\u001b[49m\n\u001b[0;32m    398\u001b[0m \u001b[43m        \u001b[49m\u001b[43msingle_meteor_score\u001b[49m\u001b[43m(\u001b[49m\n\u001b[0;32m    399\u001b[0m \u001b[43m            \u001b[49m\u001b[43mreference\u001b[49m\u001b[43m,\u001b[49m\n\u001b[0;32m    400\u001b[0m \u001b[43m            \u001b[49m\u001b[43mhypothesis\u001b[49m\u001b[43m,\u001b[49m\n\u001b[0;32m    401\u001b[0m \u001b[43m            \u001b[49m\u001b[43mpreprocess\u001b[49m\u001b[38;5;241;43m=\u001b[39;49m\u001b[43mpreprocess\u001b[49m\u001b[43m,\u001b[49m\n\u001b[0;32m    402\u001b[0m \u001b[43m            \u001b[49m\u001b[43mstemmer\u001b[49m\u001b[38;5;241;43m=\u001b[39;49m\u001b[43mstemmer\u001b[49m\u001b[43m,\u001b[49m\n\u001b[0;32m    403\u001b[0m \u001b[43m            \u001b[49m\u001b[43mwordnet\u001b[49m\u001b[38;5;241;43m=\u001b[39;49m\u001b[43mwordnet\u001b[49m\u001b[43m,\u001b[49m\n\u001b[0;32m    404\u001b[0m \u001b[43m            \u001b[49m\u001b[43malpha\u001b[49m\u001b[38;5;241;43m=\u001b[39;49m\u001b[43malpha\u001b[49m\u001b[43m,\u001b[49m\n\u001b[0;32m    405\u001b[0m \u001b[43m            \u001b[49m\u001b[43mbeta\u001b[49m\u001b[38;5;241;43m=\u001b[39;49m\u001b[43mbeta\u001b[49m\u001b[43m,\u001b[49m\n\u001b[0;32m    406\u001b[0m \u001b[43m            \u001b[49m\u001b[43mgamma\u001b[49m\u001b[38;5;241;43m=\u001b[39;49m\u001b[43mgamma\u001b[49m\u001b[43m,\u001b[49m\n\u001b[0;32m    407\u001b[0m \u001b[43m        \u001b[49m\u001b[43m)\u001b[49m\n\u001b[0;32m    408\u001b[0m \u001b[43m        \u001b[49m\u001b[38;5;28;43;01mfor\u001b[39;49;00m\u001b[43m \u001b[49m\u001b[43mreference\u001b[49m\u001b[43m \u001b[49m\u001b[38;5;129;43;01min\u001b[39;49;00m\u001b[43m \u001b[49m\u001b[43mreferences\u001b[49m\n\u001b[0;32m    409\u001b[0m \u001b[43m    \u001b[49m\u001b[43m)\u001b[49m\n",
      "File \u001b[1;32mc:\\Users\\KD\\miniconda3\\envs\\hsc-llm\\lib\\site-packages\\nltk\\translate\\meteor_score.py:398\u001b[0m, in \u001b[0;36m<genexpr>\u001b[1;34m(.0)\u001b[0m\n\u001b[0;32m    347\u001b[0m \u001b[38;5;28;01mdef\u001b[39;00m \u001b[38;5;21mmeteor_score\u001b[39m(\n\u001b[0;32m    348\u001b[0m     references: Iterable[Iterable[\u001b[38;5;28mstr\u001b[39m]],\n\u001b[0;32m    349\u001b[0m     hypothesis: Iterable[\u001b[38;5;28mstr\u001b[39m],\n\u001b[1;32m   (...)\u001b[0m\n\u001b[0;32m    355\u001b[0m     gamma: \u001b[38;5;28mfloat\u001b[39m \u001b[38;5;241m=\u001b[39m \u001b[38;5;241m0.5\u001b[39m,\n\u001b[0;32m    356\u001b[0m ) \u001b[38;5;241m-\u001b[39m\u001b[38;5;241m>\u001b[39m \u001b[38;5;28mfloat\u001b[39m:\n\u001b[0;32m    357\u001b[0m \u001b[38;5;250m    \u001b[39m\u001b[38;5;124;03m\"\"\"\u001b[39;00m\n\u001b[0;32m    358\u001b[0m \u001b[38;5;124;03m    Calculates METEOR score for hypothesis with multiple references as\u001b[39;00m\n\u001b[0;32m    359\u001b[0m \u001b[38;5;124;03m    described in \"Meteor: An Automatic Metric for MT Evaluation with\u001b[39;00m\n\u001b[1;32m   (...)\u001b[0m\n\u001b[0;32m    395\u001b[0m \u001b[38;5;124;03m    :return: The sentence-level METEOR score.\u001b[39;00m\n\u001b[0;32m    396\u001b[0m \u001b[38;5;124;03m    \"\"\"\u001b[39;00m\n\u001b[0;32m    397\u001b[0m     \u001b[38;5;28;01mreturn\u001b[39;00m \u001b[38;5;28mmax\u001b[39m(\n\u001b[1;32m--> 398\u001b[0m         \u001b[43msingle_meteor_score\u001b[49m\u001b[43m(\u001b[49m\n\u001b[0;32m    399\u001b[0m \u001b[43m            \u001b[49m\u001b[43mreference\u001b[49m\u001b[43m,\u001b[49m\n\u001b[0;32m    400\u001b[0m \u001b[43m            \u001b[49m\u001b[43mhypothesis\u001b[49m\u001b[43m,\u001b[49m\n\u001b[0;32m    401\u001b[0m \u001b[43m            \u001b[49m\u001b[43mpreprocess\u001b[49m\u001b[38;5;241;43m=\u001b[39;49m\u001b[43mpreprocess\u001b[49m\u001b[43m,\u001b[49m\n\u001b[0;32m    402\u001b[0m \u001b[43m            \u001b[49m\u001b[43mstemmer\u001b[49m\u001b[38;5;241;43m=\u001b[39;49m\u001b[43mstemmer\u001b[49m\u001b[43m,\u001b[49m\n\u001b[0;32m    403\u001b[0m \u001b[43m            \u001b[49m\u001b[43mwordnet\u001b[49m\u001b[38;5;241;43m=\u001b[39;49m\u001b[43mwordnet\u001b[49m\u001b[43m,\u001b[49m\n\u001b[0;32m    404\u001b[0m \u001b[43m            \u001b[49m\u001b[43malpha\u001b[49m\u001b[38;5;241;43m=\u001b[39;49m\u001b[43malpha\u001b[49m\u001b[43m,\u001b[49m\n\u001b[0;32m    405\u001b[0m \u001b[43m            \u001b[49m\u001b[43mbeta\u001b[49m\u001b[38;5;241;43m=\u001b[39;49m\u001b[43mbeta\u001b[49m\u001b[43m,\u001b[49m\n\u001b[0;32m    406\u001b[0m \u001b[43m            \u001b[49m\u001b[43mgamma\u001b[49m\u001b[38;5;241;43m=\u001b[39;49m\u001b[43mgamma\u001b[49m\u001b[43m,\u001b[49m\n\u001b[0;32m    407\u001b[0m \u001b[43m        \u001b[49m\u001b[43m)\u001b[49m\n\u001b[0;32m    408\u001b[0m         \u001b[38;5;28;01mfor\u001b[39;00m reference \u001b[38;5;129;01min\u001b[39;00m references\n\u001b[0;32m    409\u001b[0m     )\n",
      "File \u001b[1;32mc:\\Users\\KD\\miniconda3\\envs\\hsc-llm\\lib\\site-packages\\nltk\\translate\\meteor_score.py:331\u001b[0m, in \u001b[0;36msingle_meteor_score\u001b[1;34m(reference, hypothesis, preprocess, stemmer, wordnet, alpha, beta, gamma)\u001b[0m\n\u001b[0;32m    329\u001b[0m translation_length \u001b[38;5;241m=\u001b[39m \u001b[38;5;28mlen\u001b[39m(enum_hypothesis)\n\u001b[0;32m    330\u001b[0m reference_length \u001b[38;5;241m=\u001b[39m \u001b[38;5;28mlen\u001b[39m(enum_reference)\n\u001b[1;32m--> 331\u001b[0m matches, _, _ \u001b[38;5;241m=\u001b[39m \u001b[43m_enum_align_words\u001b[49m\u001b[43m(\u001b[49m\n\u001b[0;32m    332\u001b[0m \u001b[43m    \u001b[49m\u001b[43menum_hypothesis\u001b[49m\u001b[43m,\u001b[49m\u001b[43m \u001b[49m\u001b[43menum_reference\u001b[49m\u001b[43m,\u001b[49m\u001b[43m \u001b[49m\u001b[43mstemmer\u001b[49m\u001b[38;5;241;43m=\u001b[39;49m\u001b[43mstemmer\u001b[49m\u001b[43m,\u001b[49m\u001b[43m \u001b[49m\u001b[43mwordnet\u001b[49m\u001b[38;5;241;43m=\u001b[39;49m\u001b[43mwordnet\u001b[49m\n\u001b[0;32m    333\u001b[0m \u001b[43m\u001b[49m\u001b[43m)\u001b[49m\n\u001b[0;32m    334\u001b[0m matches_count \u001b[38;5;241m=\u001b[39m \u001b[38;5;28mlen\u001b[39m(matches)\n\u001b[0;32m    335\u001b[0m \u001b[38;5;28;01mtry\u001b[39;00m:\n",
      "File \u001b[1;32mc:\\Users\\KD\\miniconda3\\envs\\hsc-llm\\lib\\site-packages\\nltk\\translate\\meteor_score.py:223\u001b[0m, in \u001b[0;36m_enum_align_words\u001b[1;34m(enum_hypothesis_list, enum_reference_list, stemmer, wordnet)\u001b[0m\n\u001b[0;32m    215\u001b[0m exact_matches, enum_hypothesis_list, enum_reference_list \u001b[38;5;241m=\u001b[39m _match_enums(\n\u001b[0;32m    216\u001b[0m     enum_hypothesis_list, enum_reference_list\n\u001b[0;32m    217\u001b[0m )\n\u001b[0;32m    219\u001b[0m stem_matches, enum_hypothesis_list, enum_reference_list \u001b[38;5;241m=\u001b[39m _enum_stem_match(\n\u001b[0;32m    220\u001b[0m     enum_hypothesis_list, enum_reference_list, stemmer\u001b[38;5;241m=\u001b[39mstemmer\n\u001b[0;32m    221\u001b[0m )\n\u001b[1;32m--> 223\u001b[0m wns_matches, enum_hypothesis_list, enum_reference_list \u001b[38;5;241m=\u001b[39m \u001b[43m_enum_wordnetsyn_match\u001b[49m\u001b[43m(\u001b[49m\n\u001b[0;32m    224\u001b[0m \u001b[43m    \u001b[49m\u001b[43menum_hypothesis_list\u001b[49m\u001b[43m,\u001b[49m\u001b[43m \u001b[49m\u001b[43menum_reference_list\u001b[49m\u001b[43m,\u001b[49m\u001b[43m \u001b[49m\u001b[43mwordnet\u001b[49m\u001b[38;5;241;43m=\u001b[39;49m\u001b[43mwordnet\u001b[49m\n\u001b[0;32m    225\u001b[0m \u001b[43m\u001b[49m\u001b[43m)\u001b[49m\n\u001b[0;32m    227\u001b[0m \u001b[38;5;28;01mreturn\u001b[39;00m (\n\u001b[0;32m    228\u001b[0m     \u001b[38;5;28msorted\u001b[39m(\n\u001b[0;32m    229\u001b[0m         exact_matches \u001b[38;5;241m+\u001b[39m stem_matches \u001b[38;5;241m+\u001b[39m wns_matches, key\u001b[38;5;241m=\u001b[39m\u001b[38;5;28;01mlambda\u001b[39;00m wordpair: wordpair[\u001b[38;5;241m0\u001b[39m]\n\u001b[1;32m   (...)\u001b[0m\n\u001b[0;32m    232\u001b[0m     enum_reference_list,\n\u001b[0;32m    233\u001b[0m )\n",
      "File \u001b[1;32mc:\\Users\\KD\\miniconda3\\envs\\hsc-llm\\lib\\site-packages\\nltk\\translate\\meteor_score.py:161\u001b[0m, in \u001b[0;36m_enum_wordnetsyn_match\u001b[1;34m(enum_hypothesis_list, enum_reference_list, wordnet)\u001b[0m\n\u001b[0;32m    152\u001b[0m word_match \u001b[38;5;241m=\u001b[39m []\n\u001b[0;32m    153\u001b[0m \u001b[38;5;28;01mfor\u001b[39;00m i \u001b[38;5;129;01min\u001b[39;00m \u001b[38;5;28mrange\u001b[39m(\u001b[38;5;28mlen\u001b[39m(enum_hypothesis_list))[::\u001b[38;5;241m-\u001b[39m\u001b[38;5;241m1\u001b[39m]:\n\u001b[0;32m    154\u001b[0m     hypothesis_syns \u001b[38;5;241m=\u001b[39m \u001b[38;5;28mset\u001b[39m(\n\u001b[0;32m    155\u001b[0m         chain\u001b[38;5;241m.\u001b[39mfrom_iterable(\n\u001b[0;32m    156\u001b[0m             (\n\u001b[0;32m    157\u001b[0m                 lemma\u001b[38;5;241m.\u001b[39mname()\n\u001b[0;32m    158\u001b[0m                 \u001b[38;5;28;01mfor\u001b[39;00m lemma \u001b[38;5;129;01min\u001b[39;00m synset\u001b[38;5;241m.\u001b[39mlemmas()\n\u001b[0;32m    159\u001b[0m                 \u001b[38;5;28;01mif\u001b[39;00m lemma\u001b[38;5;241m.\u001b[39mname()\u001b[38;5;241m.\u001b[39mfind(\u001b[38;5;124m\"\u001b[39m\u001b[38;5;124m_\u001b[39m\u001b[38;5;124m\"\u001b[39m) \u001b[38;5;241m<\u001b[39m \u001b[38;5;241m0\u001b[39m\n\u001b[0;32m    160\u001b[0m             )\n\u001b[1;32m--> 161\u001b[0m             \u001b[38;5;28;01mfor\u001b[39;00m synset \u001b[38;5;129;01min\u001b[39;00m \u001b[43mwordnet\u001b[49m\u001b[38;5;241;43m.\u001b[39;49m\u001b[43msynsets\u001b[49m(enum_hypothesis_list[i][\u001b[38;5;241m1\u001b[39m])\n\u001b[0;32m    162\u001b[0m         )\n\u001b[0;32m    163\u001b[0m     )\u001b[38;5;241m.\u001b[39munion({enum_hypothesis_list[i][\u001b[38;5;241m1\u001b[39m]})\n\u001b[0;32m    164\u001b[0m     \u001b[38;5;28;01mfor\u001b[39;00m j \u001b[38;5;129;01min\u001b[39;00m \u001b[38;5;28mrange\u001b[39m(\u001b[38;5;28mlen\u001b[39m(enum_reference_list))[::\u001b[38;5;241m-\u001b[39m\u001b[38;5;241m1\u001b[39m]:\n\u001b[0;32m    165\u001b[0m         \u001b[38;5;28;01mif\u001b[39;00m enum_reference_list[j][\u001b[38;5;241m1\u001b[39m] \u001b[38;5;129;01min\u001b[39;00m hypothesis_syns:\n",
      "File \u001b[1;32mc:\\Users\\KD\\miniconda3\\envs\\hsc-llm\\lib\\site-packages\\nltk\\corpus\\util.py:120\u001b[0m, in \u001b[0;36mLazyCorpusLoader.__getattr__\u001b[1;34m(self, attr)\u001b[0m\n\u001b[0;32m    117\u001b[0m \u001b[38;5;28;01mif\u001b[39;00m attr \u001b[38;5;241m==\u001b[39m \u001b[38;5;124m\"\u001b[39m\u001b[38;5;124m__bases__\u001b[39m\u001b[38;5;124m\"\u001b[39m:\n\u001b[0;32m    118\u001b[0m     \u001b[38;5;28;01mraise\u001b[39;00m \u001b[38;5;167;01mAttributeError\u001b[39;00m(\u001b[38;5;124m\"\u001b[39m\u001b[38;5;124mLazyCorpusLoader object has no attribute \u001b[39m\u001b[38;5;124m'\u001b[39m\u001b[38;5;124m__bases__\u001b[39m\u001b[38;5;124m'\u001b[39m\u001b[38;5;124m\"\u001b[39m)\n\u001b[1;32m--> 120\u001b[0m \u001b[38;5;28;43mself\u001b[39;49m\u001b[38;5;241;43m.\u001b[39;49m\u001b[43m__load\u001b[49m\u001b[43m(\u001b[49m\u001b[43m)\u001b[49m\n\u001b[0;32m    121\u001b[0m \u001b[38;5;66;03m# This looks circular, but its not, since __load() changes our\u001b[39;00m\n\u001b[0;32m    122\u001b[0m \u001b[38;5;66;03m# __class__ to something new:\u001b[39;00m\n\u001b[0;32m    123\u001b[0m \u001b[38;5;28;01mreturn\u001b[39;00m \u001b[38;5;28mgetattr\u001b[39m(\u001b[38;5;28mself\u001b[39m, attr)\n",
      "File \u001b[1;32mc:\\Users\\KD\\miniconda3\\envs\\hsc-llm\\lib\\site-packages\\nltk\\corpus\\util.py:86\u001b[0m, in \u001b[0;36mLazyCorpusLoader.__load\u001b[1;34m(self)\u001b[0m\n\u001b[0;32m     84\u001b[0m             root \u001b[38;5;241m=\u001b[39m nltk\u001b[38;5;241m.\u001b[39mdata\u001b[38;5;241m.\u001b[39mfind(\u001b[38;5;124mf\u001b[39m\u001b[38;5;124m\"\u001b[39m\u001b[38;5;132;01m{\u001b[39;00m\u001b[38;5;28mself\u001b[39m\u001b[38;5;241m.\u001b[39msubdir\u001b[38;5;132;01m}\u001b[39;00m\u001b[38;5;124m/\u001b[39m\u001b[38;5;132;01m{\u001b[39;00mzip_name\u001b[38;5;132;01m}\u001b[39;00m\u001b[38;5;124m\"\u001b[39m)\n\u001b[0;32m     85\u001b[0m         \u001b[38;5;28;01mexcept\u001b[39;00m \u001b[38;5;167;01mLookupError\u001b[39;00m:\n\u001b[1;32m---> 86\u001b[0m             \u001b[38;5;28;01mraise\u001b[39;00m e\n\u001b[0;32m     88\u001b[0m \u001b[38;5;66;03m# Load the corpus.\u001b[39;00m\n\u001b[0;32m     89\u001b[0m corpus \u001b[38;5;241m=\u001b[39m \u001b[38;5;28mself\u001b[39m\u001b[38;5;241m.\u001b[39m__reader_cls(root, \u001b[38;5;241m*\u001b[39m\u001b[38;5;28mself\u001b[39m\u001b[38;5;241m.\u001b[39m__args, \u001b[38;5;241m*\u001b[39m\u001b[38;5;241m*\u001b[39m\u001b[38;5;28mself\u001b[39m\u001b[38;5;241m.\u001b[39m__kwargs)\n",
      "File \u001b[1;32mc:\\Users\\KD\\miniconda3\\envs\\hsc-llm\\lib\\site-packages\\nltk\\corpus\\util.py:81\u001b[0m, in \u001b[0;36mLazyCorpusLoader.__load\u001b[1;34m(self)\u001b[0m\n\u001b[0;32m     79\u001b[0m \u001b[38;5;28;01melse\u001b[39;00m:\n\u001b[0;32m     80\u001b[0m     \u001b[38;5;28;01mtry\u001b[39;00m:\n\u001b[1;32m---> 81\u001b[0m         root \u001b[38;5;241m=\u001b[39m \u001b[43mnltk\u001b[49m\u001b[38;5;241;43m.\u001b[39;49m\u001b[43mdata\u001b[49m\u001b[38;5;241;43m.\u001b[39;49m\u001b[43mfind\u001b[49m\u001b[43m(\u001b[49m\u001b[38;5;124;43mf\u001b[39;49m\u001b[38;5;124;43m\"\u001b[39;49m\u001b[38;5;132;43;01m{\u001b[39;49;00m\u001b[38;5;28;43mself\u001b[39;49m\u001b[38;5;241;43m.\u001b[39;49m\u001b[43msubdir\u001b[49m\u001b[38;5;132;43;01m}\u001b[39;49;00m\u001b[38;5;124;43m/\u001b[39;49m\u001b[38;5;132;43;01m{\u001b[39;49;00m\u001b[38;5;28;43mself\u001b[39;49m\u001b[38;5;241;43m.\u001b[39;49m\u001b[43m__name\u001b[49m\u001b[38;5;132;43;01m}\u001b[39;49;00m\u001b[38;5;124;43m\"\u001b[39;49m\u001b[43m)\u001b[49m\n\u001b[0;32m     82\u001b[0m     \u001b[38;5;28;01mexcept\u001b[39;00m \u001b[38;5;167;01mLookupError\u001b[39;00m \u001b[38;5;28;01mas\u001b[39;00m e:\n\u001b[0;32m     83\u001b[0m         \u001b[38;5;28;01mtry\u001b[39;00m:\n",
      "File \u001b[1;32mc:\\Users\\KD\\miniconda3\\envs\\hsc-llm\\lib\\site-packages\\nltk\\data.py:579\u001b[0m, in \u001b[0;36mfind\u001b[1;34m(resource_name, paths)\u001b[0m\n\u001b[0;32m    577\u001b[0m sep \u001b[38;5;241m=\u001b[39m \u001b[38;5;124m\"\u001b[39m\u001b[38;5;124m*\u001b[39m\u001b[38;5;124m\"\u001b[39m \u001b[38;5;241m*\u001b[39m \u001b[38;5;241m70\u001b[39m\n\u001b[0;32m    578\u001b[0m resource_not_found \u001b[38;5;241m=\u001b[39m \u001b[38;5;124mf\u001b[39m\u001b[38;5;124m\"\u001b[39m\u001b[38;5;130;01m\\n\u001b[39;00m\u001b[38;5;132;01m{\u001b[39;00msep\u001b[38;5;132;01m}\u001b[39;00m\u001b[38;5;130;01m\\n\u001b[39;00m\u001b[38;5;132;01m{\u001b[39;00mmsg\u001b[38;5;132;01m}\u001b[39;00m\u001b[38;5;130;01m\\n\u001b[39;00m\u001b[38;5;132;01m{\u001b[39;00msep\u001b[38;5;132;01m}\u001b[39;00m\u001b[38;5;130;01m\\n\u001b[39;00m\u001b[38;5;124m\"\u001b[39m\n\u001b[1;32m--> 579\u001b[0m \u001b[38;5;28;01mraise\u001b[39;00m \u001b[38;5;167;01mLookupError\u001b[39;00m(resource_not_found)\n",
      "\u001b[1;31mLookupError\u001b[0m: \n**********************************************************************\n  Resource \u001b[93mwordnet\u001b[0m not found.\n  Please use the NLTK Downloader to obtain the resource:\n\n  \u001b[31m>>> import nltk\n  >>> nltk.download('wordnet')\n  \u001b[0m\n  For more information see: https://www.nltk.org/data.html\n\n  Attempted to load \u001b[93mcorpora/wordnet\u001b[0m\n\n  Searched in:\n    - 'C:\\\\Users\\\\KD/nltk_data'\n    - 'c:\\\\Users\\\\KD\\\\miniconda3\\\\envs\\\\hsc-llm\\\\nltk_data'\n    - 'c:\\\\Users\\\\KD\\\\miniconda3\\\\envs\\\\hsc-llm\\\\share\\\\nltk_data'\n    - 'c:\\\\Users\\\\KD\\\\miniconda3\\\\envs\\\\hsc-llm\\\\lib\\\\nltk_data'\n    - 'C:\\\\Users\\\\KD\\\\AppData\\\\Roaming\\\\nltk_data'\n    - 'C:\\\\nltk_data'\n    - 'D:\\\\nltk_data'\n    - 'E:\\\\nltk_data'\n**********************************************************************\n"
     ]
    }
   ],
   "source": [
    "reference = reference_answers[1].split()\n",
    "hyptothesis = model1_answers[1].split()\n",
    "\n",
    "score = meteor_score([reference], hyptothesis)\n",
    "print(score)"
   ]
  },
  {
   "cell_type": "code",
   "execution_count": 27,
   "metadata": {},
   "outputs": [
    {
     "ename": "SyntaxError",
     "evalue": "unexpected EOF while parsing (1587151649.py, line 5)",
     "output_type": "error",
     "traceback": [
      "\u001b[1;36m  Cell \u001b[1;32mIn[27], line 5\u001b[1;36m\u001b[0m\n\u001b[1;33m    m1_m_score.append(single_meteor_score([reference], candidate)\u001b[0m\n\u001b[1;37m                                                                 ^\u001b[0m\n\u001b[1;31mSyntaxError\u001b[0m\u001b[1;31m:\u001b[0m unexpected EOF while parsing\n"
     ]
    }
   ],
   "source": [
    "m1_m_score = []\n",
    "for x in range(len(model1_answers)):\n",
    "    reference = reference_answers[x].split()\n",
    "    candidate = model1_answers[x].split()\n",
    "    m1_m_score.append(single_meteor_score([reference], candidate)"
   ]
  },
  {
   "cell_type": "code",
   "execution_count": 20,
   "metadata": {},
   "outputs": [
    {
     "ename": "TypeError",
     "evalue": "\"reference\" expects pre-tokenized reference (Iterable[str]): A",
     "output_type": "error",
     "traceback": [
      "\u001b[1;31m---------------------------------------------------------------------------\u001b[0m",
      "\u001b[1;31mTypeError\u001b[0m                                 Traceback (most recent call last)",
      "Cell \u001b[1;32mIn[20], line 5\u001b[0m\n\u001b[0;32m      3\u001b[0m m1_f1 \u001b[38;5;241m=\u001b[39m []\n\u001b[0;32m      4\u001b[0m \u001b[38;5;28;01mfor\u001b[39;00m x \u001b[38;5;129;01min\u001b[39;00m \u001b[38;5;28mrange\u001b[39m(\u001b[38;5;28mlen\u001b[39m(model1_answers)):\n\u001b[1;32m----> 5\u001b[0m     P, R, F1 \u001b[38;5;241m=\u001b[39m \u001b[43mmeteor_score\u001b[49m\u001b[43m(\u001b[49m\u001b[43mreference_answers\u001b[49m\u001b[43m[\u001b[49m\u001b[43mx\u001b[49m\u001b[43m]\u001b[49m\u001b[43m,\u001b[49m\u001b[43m \u001b[49m\u001b[43m[\u001b[49m\u001b[43mmodel1_answers\u001b[49m\u001b[43m[\u001b[49m\u001b[43mx\u001b[49m\u001b[43m]\u001b[49m\u001b[43m]\u001b[49m\u001b[43m)\u001b[49m\n\u001b[0;32m      6\u001b[0m     m1_precision\u001b[38;5;241m.\u001b[39mappend(P\u001b[38;5;241m.\u001b[39mitem())\n\u001b[0;32m      7\u001b[0m     m1_recall\u001b[38;5;241m.\u001b[39mappend(R\u001b[38;5;241m.\u001b[39mitem())   \n",
      "File \u001b[1;32mc:\\Users\\KD\\miniconda3\\envs\\hsc-llm\\lib\\site-packages\\nltk\\translate\\meteor_score.py:397\u001b[0m, in \u001b[0;36mmeteor_score\u001b[1;34m(references, hypothesis, preprocess, stemmer, wordnet, alpha, beta, gamma)\u001b[0m\n\u001b[0;32m    347\u001b[0m \u001b[38;5;28;01mdef\u001b[39;00m \u001b[38;5;21mmeteor_score\u001b[39m(\n\u001b[0;32m    348\u001b[0m     references: Iterable[Iterable[\u001b[38;5;28mstr\u001b[39m]],\n\u001b[0;32m    349\u001b[0m     hypothesis: Iterable[\u001b[38;5;28mstr\u001b[39m],\n\u001b[1;32m   (...)\u001b[0m\n\u001b[0;32m    355\u001b[0m     gamma: \u001b[38;5;28mfloat\u001b[39m \u001b[38;5;241m=\u001b[39m \u001b[38;5;241m0.5\u001b[39m,\n\u001b[0;32m    356\u001b[0m ) \u001b[38;5;241m-\u001b[39m\u001b[38;5;241m>\u001b[39m \u001b[38;5;28mfloat\u001b[39m:\n\u001b[0;32m    357\u001b[0m \u001b[38;5;250m    \u001b[39m\u001b[38;5;124;03m\"\"\"\u001b[39;00m\n\u001b[0;32m    358\u001b[0m \u001b[38;5;124;03m    Calculates METEOR score for hypothesis with multiple references as\u001b[39;00m\n\u001b[0;32m    359\u001b[0m \u001b[38;5;124;03m    described in \"Meteor: An Automatic Metric for MT Evaluation with\u001b[39;00m\n\u001b[1;32m   (...)\u001b[0m\n\u001b[0;32m    395\u001b[0m \u001b[38;5;124;03m    :return: The sentence-level METEOR score.\u001b[39;00m\n\u001b[0;32m    396\u001b[0m \u001b[38;5;124;03m    \"\"\"\u001b[39;00m\n\u001b[1;32m--> 397\u001b[0m     \u001b[38;5;28;01mreturn\u001b[39;00m \u001b[38;5;28;43mmax\u001b[39;49m\u001b[43m(\u001b[49m\n\u001b[0;32m    398\u001b[0m \u001b[43m        \u001b[49m\u001b[43msingle_meteor_score\u001b[49m\u001b[43m(\u001b[49m\n\u001b[0;32m    399\u001b[0m \u001b[43m            \u001b[49m\u001b[43mreference\u001b[49m\u001b[43m,\u001b[49m\n\u001b[0;32m    400\u001b[0m \u001b[43m            \u001b[49m\u001b[43mhypothesis\u001b[49m\u001b[43m,\u001b[49m\n\u001b[0;32m    401\u001b[0m \u001b[43m            \u001b[49m\u001b[43mpreprocess\u001b[49m\u001b[38;5;241;43m=\u001b[39;49m\u001b[43mpreprocess\u001b[49m\u001b[43m,\u001b[49m\n\u001b[0;32m    402\u001b[0m \u001b[43m            \u001b[49m\u001b[43mstemmer\u001b[49m\u001b[38;5;241;43m=\u001b[39;49m\u001b[43mstemmer\u001b[49m\u001b[43m,\u001b[49m\n\u001b[0;32m    403\u001b[0m \u001b[43m            \u001b[49m\u001b[43mwordnet\u001b[49m\u001b[38;5;241;43m=\u001b[39;49m\u001b[43mwordnet\u001b[49m\u001b[43m,\u001b[49m\n\u001b[0;32m    404\u001b[0m \u001b[43m            \u001b[49m\u001b[43malpha\u001b[49m\u001b[38;5;241;43m=\u001b[39;49m\u001b[43malpha\u001b[49m\u001b[43m,\u001b[49m\n\u001b[0;32m    405\u001b[0m \u001b[43m            \u001b[49m\u001b[43mbeta\u001b[49m\u001b[38;5;241;43m=\u001b[39;49m\u001b[43mbeta\u001b[49m\u001b[43m,\u001b[49m\n\u001b[0;32m    406\u001b[0m \u001b[43m            \u001b[49m\u001b[43mgamma\u001b[49m\u001b[38;5;241;43m=\u001b[39;49m\u001b[43mgamma\u001b[49m\u001b[43m,\u001b[49m\n\u001b[0;32m    407\u001b[0m \u001b[43m        \u001b[49m\u001b[43m)\u001b[49m\n\u001b[0;32m    408\u001b[0m \u001b[43m        \u001b[49m\u001b[38;5;28;43;01mfor\u001b[39;49;00m\u001b[43m \u001b[49m\u001b[43mreference\u001b[49m\u001b[43m \u001b[49m\u001b[38;5;129;43;01min\u001b[39;49;00m\u001b[43m \u001b[49m\u001b[43mreferences\u001b[49m\n\u001b[0;32m    409\u001b[0m \u001b[43m    \u001b[49m\u001b[43m)\u001b[49m\n",
      "File \u001b[1;32mc:\\Users\\KD\\miniconda3\\envs\\hsc-llm\\lib\\site-packages\\nltk\\translate\\meteor_score.py:398\u001b[0m, in \u001b[0;36m<genexpr>\u001b[1;34m(.0)\u001b[0m\n\u001b[0;32m    347\u001b[0m \u001b[38;5;28;01mdef\u001b[39;00m \u001b[38;5;21mmeteor_score\u001b[39m(\n\u001b[0;32m    348\u001b[0m     references: Iterable[Iterable[\u001b[38;5;28mstr\u001b[39m]],\n\u001b[0;32m    349\u001b[0m     hypothesis: Iterable[\u001b[38;5;28mstr\u001b[39m],\n\u001b[1;32m   (...)\u001b[0m\n\u001b[0;32m    355\u001b[0m     gamma: \u001b[38;5;28mfloat\u001b[39m \u001b[38;5;241m=\u001b[39m \u001b[38;5;241m0.5\u001b[39m,\n\u001b[0;32m    356\u001b[0m ) \u001b[38;5;241m-\u001b[39m\u001b[38;5;241m>\u001b[39m \u001b[38;5;28mfloat\u001b[39m:\n\u001b[0;32m    357\u001b[0m \u001b[38;5;250m    \u001b[39m\u001b[38;5;124;03m\"\"\"\u001b[39;00m\n\u001b[0;32m    358\u001b[0m \u001b[38;5;124;03m    Calculates METEOR score for hypothesis with multiple references as\u001b[39;00m\n\u001b[0;32m    359\u001b[0m \u001b[38;5;124;03m    described in \"Meteor: An Automatic Metric for MT Evaluation with\u001b[39;00m\n\u001b[1;32m   (...)\u001b[0m\n\u001b[0;32m    395\u001b[0m \u001b[38;5;124;03m    :return: The sentence-level METEOR score.\u001b[39;00m\n\u001b[0;32m    396\u001b[0m \u001b[38;5;124;03m    \"\"\"\u001b[39;00m\n\u001b[0;32m    397\u001b[0m     \u001b[38;5;28;01mreturn\u001b[39;00m \u001b[38;5;28mmax\u001b[39m(\n\u001b[1;32m--> 398\u001b[0m         \u001b[43msingle_meteor_score\u001b[49m\u001b[43m(\u001b[49m\n\u001b[0;32m    399\u001b[0m \u001b[43m            \u001b[49m\u001b[43mreference\u001b[49m\u001b[43m,\u001b[49m\n\u001b[0;32m    400\u001b[0m \u001b[43m            \u001b[49m\u001b[43mhypothesis\u001b[49m\u001b[43m,\u001b[49m\n\u001b[0;32m    401\u001b[0m \u001b[43m            \u001b[49m\u001b[43mpreprocess\u001b[49m\u001b[38;5;241;43m=\u001b[39;49m\u001b[43mpreprocess\u001b[49m\u001b[43m,\u001b[49m\n\u001b[0;32m    402\u001b[0m \u001b[43m            \u001b[49m\u001b[43mstemmer\u001b[49m\u001b[38;5;241;43m=\u001b[39;49m\u001b[43mstemmer\u001b[49m\u001b[43m,\u001b[49m\n\u001b[0;32m    403\u001b[0m \u001b[43m            \u001b[49m\u001b[43mwordnet\u001b[49m\u001b[38;5;241;43m=\u001b[39;49m\u001b[43mwordnet\u001b[49m\u001b[43m,\u001b[49m\n\u001b[0;32m    404\u001b[0m \u001b[43m            \u001b[49m\u001b[43malpha\u001b[49m\u001b[38;5;241;43m=\u001b[39;49m\u001b[43malpha\u001b[49m\u001b[43m,\u001b[49m\n\u001b[0;32m    405\u001b[0m \u001b[43m            \u001b[49m\u001b[43mbeta\u001b[49m\u001b[38;5;241;43m=\u001b[39;49m\u001b[43mbeta\u001b[49m\u001b[43m,\u001b[49m\n\u001b[0;32m    406\u001b[0m \u001b[43m            \u001b[49m\u001b[43mgamma\u001b[49m\u001b[38;5;241;43m=\u001b[39;49m\u001b[43mgamma\u001b[49m\u001b[43m,\u001b[49m\n\u001b[0;32m    407\u001b[0m \u001b[43m        \u001b[49m\u001b[43m)\u001b[49m\n\u001b[0;32m    408\u001b[0m         \u001b[38;5;28;01mfor\u001b[39;00m reference \u001b[38;5;129;01min\u001b[39;00m references\n\u001b[0;32m    409\u001b[0m     )\n",
      "File \u001b[1;32mc:\\Users\\KD\\miniconda3\\envs\\hsc-llm\\lib\\site-packages\\nltk\\translate\\meteor_score.py:326\u001b[0m, in \u001b[0;36msingle_meteor_score\u001b[1;34m(reference, hypothesis, preprocess, stemmer, wordnet, alpha, beta, gamma)\u001b[0m\n\u001b[0;32m    282\u001b[0m \u001b[38;5;28;01mdef\u001b[39;00m \u001b[38;5;21msingle_meteor_score\u001b[39m(\n\u001b[0;32m    283\u001b[0m     reference: Iterable[\u001b[38;5;28mstr\u001b[39m],\n\u001b[0;32m    284\u001b[0m     hypothesis: Iterable[\u001b[38;5;28mstr\u001b[39m],\n\u001b[1;32m   (...)\u001b[0m\n\u001b[0;32m    290\u001b[0m     gamma: \u001b[38;5;28mfloat\u001b[39m \u001b[38;5;241m=\u001b[39m \u001b[38;5;241m0.5\u001b[39m,\n\u001b[0;32m    291\u001b[0m ) \u001b[38;5;241m-\u001b[39m\u001b[38;5;241m>\u001b[39m \u001b[38;5;28mfloat\u001b[39m:\n\u001b[0;32m    292\u001b[0m \u001b[38;5;250m    \u001b[39m\u001b[38;5;124;03m\"\"\"\u001b[39;00m\n\u001b[0;32m    293\u001b[0m \u001b[38;5;124;03m    Calculates METEOR score for single hypothesis and reference as per\u001b[39;00m\n\u001b[0;32m    294\u001b[0m \u001b[38;5;124;03m    \"Meteor: An Automatic Metric for MT Evaluation with HighLevels of\u001b[39;00m\n\u001b[1;32m   (...)\u001b[0m\n\u001b[0;32m    324\u001b[0m \u001b[38;5;124;03m    :return: The sentence-level METEOR score.\u001b[39;00m\n\u001b[0;32m    325\u001b[0m \u001b[38;5;124;03m    \"\"\"\u001b[39;00m\n\u001b[1;32m--> 326\u001b[0m     enum_hypothesis, enum_reference \u001b[38;5;241m=\u001b[39m \u001b[43m_generate_enums\u001b[49m\u001b[43m(\u001b[49m\n\u001b[0;32m    327\u001b[0m \u001b[43m        \u001b[49m\u001b[43mhypothesis\u001b[49m\u001b[43m,\u001b[49m\u001b[43m \u001b[49m\u001b[43mreference\u001b[49m\u001b[43m,\u001b[49m\u001b[43m \u001b[49m\u001b[43mpreprocess\u001b[49m\u001b[38;5;241;43m=\u001b[39;49m\u001b[43mpreprocess\u001b[49m\n\u001b[0;32m    328\u001b[0m \u001b[43m    \u001b[49m\u001b[43m)\u001b[49m\n\u001b[0;32m    329\u001b[0m     translation_length \u001b[38;5;241m=\u001b[39m \u001b[38;5;28mlen\u001b[39m(enum_hypothesis)\n\u001b[0;32m    330\u001b[0m     reference_length \u001b[38;5;241m=\u001b[39m \u001b[38;5;28mlen\u001b[39m(enum_reference)\n",
      "File \u001b[1;32mc:\\Users\\KD\\miniconda3\\envs\\hsc-llm\\lib\\site-packages\\nltk\\translate\\meteor_score.py:38\u001b[0m, in \u001b[0;36m_generate_enums\u001b[1;34m(hypothesis, reference, preprocess)\u001b[0m\n\u001b[0;32m     33\u001b[0m     \u001b[38;5;28;01mraise\u001b[39;00m \u001b[38;5;167;01mTypeError\u001b[39;00m(\n\u001b[0;32m     34\u001b[0m         \u001b[38;5;124mf\u001b[39m\u001b[38;5;124m'\u001b[39m\u001b[38;5;124m\"\u001b[39m\u001b[38;5;124mhypothesis\u001b[39m\u001b[38;5;124m\"\u001b[39m\u001b[38;5;124m expects pre-tokenized hypothesis (Iterable[str]): \u001b[39m\u001b[38;5;132;01m{\u001b[39;00mhypothesis\u001b[38;5;132;01m}\u001b[39;00m\u001b[38;5;124m'\u001b[39m\n\u001b[0;32m     35\u001b[0m     )\n\u001b[0;32m     37\u001b[0m \u001b[38;5;28;01mif\u001b[39;00m \u001b[38;5;28misinstance\u001b[39m(reference, \u001b[38;5;28mstr\u001b[39m):\n\u001b[1;32m---> 38\u001b[0m     \u001b[38;5;28;01mraise\u001b[39;00m \u001b[38;5;167;01mTypeError\u001b[39;00m(\n\u001b[0;32m     39\u001b[0m         \u001b[38;5;124mf\u001b[39m\u001b[38;5;124m'\u001b[39m\u001b[38;5;124m\"\u001b[39m\u001b[38;5;124mreference\u001b[39m\u001b[38;5;124m\"\u001b[39m\u001b[38;5;124m expects pre-tokenized reference (Iterable[str]): \u001b[39m\u001b[38;5;132;01m{\u001b[39;00mreference\u001b[38;5;132;01m}\u001b[39;00m\u001b[38;5;124m'\u001b[39m\n\u001b[0;32m     40\u001b[0m     )\n\u001b[0;32m     42\u001b[0m enum_hypothesis_list \u001b[38;5;241m=\u001b[39m \u001b[38;5;28mlist\u001b[39m(\u001b[38;5;28menumerate\u001b[39m(\u001b[38;5;28mmap\u001b[39m(preprocess, hypothesis)))\n\u001b[0;32m     43\u001b[0m enum_reference_list \u001b[38;5;241m=\u001b[39m \u001b[38;5;28mlist\u001b[39m(\u001b[38;5;28menumerate\u001b[39m(\u001b[38;5;28mmap\u001b[39m(preprocess, reference)))\n",
      "\u001b[1;31mTypeError\u001b[0m: \"reference\" expects pre-tokenized reference (Iterable[str]): A"
     ]
    }
   ],
   "source": [
    "m1_precision = []\n",
    "m1_recall = []\n",
    "m1_f1 = []\n",
    "for x in range(len(model1_answers)):\n",
    "    P, R, F1 = meteor_score(reference_answers[x], [model1_answers[x]])\n",
    "    m1_precision.append(P.item())\n",
    "    m1_recall.append(R.item())   \n",
    "    m1_f1.append(F1.item())\n",
    "\n",
    "m1_precision = [round(p, 3) for p in m1_precision]\n",
    "m1_recall = [round(r, 3) for r in m1_recall]\n",
    "m1_f1 = [round(f, 3) for f in m1_f1]"
   ]
  },
  {
   "cell_type": "markdown",
   "metadata": {},
   "source": [
    "METEOR for Model 2"
   ]
  },
  {
   "cell_type": "code",
   "execution_count": null,
   "metadata": {},
   "outputs": [],
   "source": [
    "m2_precision = []\n",
    "m2_recall = []\n",
    "m2_f1 = []\n",
    "for x in range(len(model2_answers)):\n",
    "    P, R, F1 = meteor_score([reference_answers[x]], [model2_answers[x]])\n",
    "    m2_precision.append(P.item())\n",
    "    m2_recall.append(R.item())   \n",
    "    m2_f1.append(F1.item())\n",
    "\n",
    "m2_precision = [round(p, 3) for p in m2_precision]\n",
    "m2_recall = [round(r, 3) for r in m2_recall]\n",
    "m2_f1 = [round(f, 3) for f in m2_f1]"
   ]
  },
  {
   "cell_type": "markdown",
   "metadata": {},
   "source": [
    "METEOR for Model 1a"
   ]
  },
  {
   "cell_type": "code",
   "execution_count": null,
   "metadata": {},
   "outputs": [],
   "source": [
    "m1a_precision = []\n",
    "m1a_recall = []\n",
    "m1a_f1 = []\n",
    "for x in range(len(model1a_answers)):\n",
    "    P, R, F1 = meteor_score([reference_answers[x]], [model1a_answers[x]])\n",
    "    m1a_precision.append(P.item())\n",
    "    m1a_recall.append(R.item())   \n",
    "    m1a_f1.append(F1.item())\n",
    "\n",
    "m1a_precision = [round(p, 3) for p in m1a_precision]\n",
    "m1a_recall = [round(r, 3) for r in m1a_recall]\n",
    "m1a_f1 = [round(f, 3) for f in m1a_f1]\n"
   ]
  },
  {
   "cell_type": "markdown",
   "metadata": {},
   "source": [
    "METEOR for Model 2a"
   ]
  },
  {
   "cell_type": "code",
   "execution_count": null,
   "metadata": {},
   "outputs": [],
   "source": [
    "m2a_precision = []\n",
    "m2a_recall = []\n",
    "m2a_f1 = []\n",
    "for x in range(len(model2a_answers)):\n",
    "    P, R, F1 = meteor_score([reference_answers[x]], [model2a_answers[x]])\n",
    "    m2a_precision.append(P.item())\n",
    "    m2a_recall.append(R.item())   \n",
    "    m2a_f1.append(F1.item())\n",
    "\n",
    "m2a_precision = [round(p, 3) for p in m2a_precision]\n",
    "m2a_recall = [round(r, 3) for r in m2a_recall]\n",
    "m2a_f1 = [round(f, 3) for f in m2a_f1]\n"
   ]
  },
  {
   "cell_type": "markdown",
   "metadata": {},
   "source": [
    "### Put into CSV"
   ]
  },
  {
   "cell_type": "code",
   "execution_count": null,
   "metadata": {},
   "outputs": [],
   "source": [
    "#create index\n",
    "index_list = []\n",
    "for i in range(1, len(questions)+1):\n",
    "    index_list.append(i)"
   ]
  },
  {
   "cell_type": "code",
   "execution_count": null,
   "metadata": {},
   "outputs": [],
   "source": [
    "meteor_results_df = pd.DataFrame({\n",
    "    'ID': index_list,\n",
    "    'MS M1 Precision': m1_precision,\n",
    "    'MS M1 Recall': m1_recall,\n",
    "    'MS M1 F1': m1_f1,\n",
    "    'MS M2 Precision': m2_precision,\n",
    "    'MS M2 Recall': m2_recall,\n",
    "    'MS M2 F1': m2_f1,\n",
    "    'MS M1a Precision': m1a_precision,\n",
    "    'MS M1a Recall': m1a_recall,\n",
    "    'MS M1a F1': m1a_f1,\n",
    "    'MS M2a Precision': m2a_precision,\n",
    "    'MS M2a Recall': m2a_recall,\n",
    "    'MS M2a F1': m2a_f1\n",
    "})\n",
    "\n",
    "meteor_results_df.set_index('ID', inplace=True)"
   ]
  },
  {
   "cell_type": "code",
   "execution_count": null,
   "metadata": {},
   "outputs": [],
   "source": [
    "meteor_results_df"
   ]
  },
  {
   "cell_type": "code",
   "execution_count": null,
   "metadata": {},
   "outputs": [],
   "source": [
    "meteor_results_df.to_csv('meteor_results_df.csv')"
   ]
  }
 ],
 "metadata": {
  "kernelspec": {
   "display_name": "hsc-llm",
   "language": "python",
   "name": "python3"
  },
  "language_info": {
   "codemirror_mode": {
    "name": "ipython",
    "version": 3
   },
   "file_extension": ".py",
   "mimetype": "text/x-python",
   "name": "python",
   "nbconvert_exporter": "python",
   "pygments_lexer": "ipython3",
   "version": "3.9.20"
  }
 },
 "nbformat": 4,
 "nbformat_minor": 2
}
